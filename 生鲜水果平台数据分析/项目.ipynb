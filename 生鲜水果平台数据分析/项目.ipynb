{
 "cells": [
  {
   "cell_type": "code",
   "execution_count": 2,
   "metadata": {},
   "outputs": [],
   "source": [
    "import numpy as np\n",
    "import pandas as pd\n",
    "import matplotlib.pyplot as plt\n",
    "plt.rcParams['font.family'] = ['Arial Unicode MS', 'Microsoft Yahei', 'SimHei', 'sans-serif']  \n"
   ]
  },
  {
   "cell_type": "code",
   "execution_count": 3,
   "metadata": {},
   "outputs": [
    {
     "data": {
      "text/plain": [
       "OrderedDict([('订单信息',          订单ID    客户ID  订单状态  优惠类型\n",
       "              0       47739    5245     1     0\n",
       "              1      341269    5245     0     0\n",
       "              2       32690    5254     1     0\n",
       "              3       45641    5254     1     0\n",
       "              4       66116    5254     1     0\n",
       "              5       79014    5254     1     0\n",
       "              6       79058    5254     0     0\n",
       "              7       79221    5254     1     0\n",
       "              8       79608    5254     1     0\n",
       "              9      146455    5254     1     0\n",
       "              10     148275    5254     1     0\n",
       "              11     149066    5254     1     1\n",
       "              12     240219    5286     1     1\n",
       "              13     287500    5286     1     0\n",
       "              14     287502    5286     0     0\n",
       "              15     290370    5286     0     0\n",
       "              16     290372    5286     0     0\n",
       "              17     378615    5286     0     0\n",
       "              18     378618    5286     0     0\n",
       "              19     378621    5286     0     0\n",
       "              20      66457    5292     1     0\n",
       "              21     211972    5292     0     1\n",
       "              22     226715    5292     1     0\n",
       "              23     237862    5292     0     1\n",
       "              24     246600    5292     1     0\n",
       "              25     248991    5292     0     1\n",
       "              26     249847    5292     1     1\n",
       "              27     256960    5292     1     1\n",
       "              28     422975    5292     1     0\n",
       "              29     148707    5474     1     0\n",
       "              ...       ...     ...   ...   ...\n",
       "              29120  445946  169197     0     1\n",
       "              29121  442081  169217     1     1\n",
       "              29122  442299  169269     1     1\n",
       "              29123  442333  169276     1     1\n",
       "              29124  442649  169299     0     1\n",
       "              29125  442726  169299     1     1\n",
       "              29126  443197  169318     1     1\n",
       "              29127  444034  169318     1     1\n",
       "              29128  443767  169393     0     1\n",
       "              29129  443770  169393     1     0\n",
       "              29130  443771  169393     1     0\n",
       "              29131  444237  169393     1     0\n",
       "              29132  443940  169445     0     1\n",
       "              29133  444077  169445     1     0\n",
       "              29134  445037  169445     0     0\n",
       "              29135  444721  169598     1     0\n",
       "              29136  445432  169598     0     1\n",
       "              29137  445444  169598     1     1\n",
       "              29138  444984  169613     1     1\n",
       "              29139  445427  169614     1     1\n",
       "              29140  445249  169691     1     1\n",
       "              29141  445279  169699     1     0\n",
       "              29142  447620  169699     1     1\n",
       "              29143  445884  169815     1     1\n",
       "              29144  447102  169832     1     1\n",
       "              29145  446758  169934     1     1\n",
       "              29146  446759  169934     1     0\n",
       "              29147  447165  169976     0     1\n",
       "              29148  447274  169976     0     1\n",
       "              29149  447375  169976     1     1\n",
       "              \n",
       "              [29150 rows x 4 columns]),\n",
       "             ('货物信息',         订单ID    货物ID      货物名称 优惠额度\n",
       "              0     264971  103247  自然乐园水果礼盒  >15\n",
       "              1     264994  103247  自然乐园水果礼盒  >15\n",
       "              2     266829  103247  自然乐园水果礼盒  >15\n",
       "              3     267232  103247  自然乐园水果礼盒  >15\n",
       "              4     269051  103247  自然乐园水果礼盒  >15\n",
       "              5     256809  101645       紫甘蓝  >15\n",
       "              6     256984  101645       紫甘蓝  >15\n",
       "              7     258700  101645       紫甘蓝  >15\n",
       "              8     268496  101645       紫甘蓝  >15\n",
       "              9     268510  101645       紫甘蓝  >15\n",
       "              10    275809  101645       紫甘蓝  >15\n",
       "              11    277573  101645       紫甘蓝  >15\n",
       "              12    284473  101645       紫甘蓝  >15\n",
       "              13    287662  101645       紫甘蓝  >15\n",
       "              14    287668  101645       紫甘蓝  >15\n",
       "              15    289079  101645       紫甘蓝  >15\n",
       "              16    290400  101645       紫甘蓝  >15\n",
       "              17    264515  103306        滋久  >15\n",
       "              18    266465  103306        滋久  >15\n",
       "              19    266994  103306        滋久  >15\n",
       "              20    272357  103306        滋久  >15\n",
       "              21    277529  103306        滋久  >15\n",
       "              22    258249  103305        滋久  >15\n",
       "              23    260035  103305        滋久  >15\n",
       "              24    263743  103305        滋久  >15\n",
       "              25    268881  103305        滋久  >15\n",
       "              26    271752  104052    猪蹄(一只)  >15\n",
       "              27    274915  104052    猪蹄(一只)  >15\n",
       "              28    276892  104052    猪蹄(一只)  >15\n",
       "              29    277573  104052    猪蹄(一只)  >15\n",
       "              ...      ...     ...       ...  ...\n",
       "              3100  284553  102103      冷冻鲜肉    0\n",
       "              3101  284927  102103      冷冻鲜肉    0\n",
       "              3102  285226  102103      冷冻鲜肉    0\n",
       "              3103  285307  102103      冷冻鲜肉    0\n",
       "              3104  285552  102103      冷冻鲜肉    0\n",
       "              3105  286058  102103      冷冻鲜肉    0\n",
       "              3106  286168  102103      冷冻鲜肉    0\n",
       "              3107  286815  102103      冷冻鲜肉    0\n",
       "              3108  287216  102103      冷冻鲜肉    0\n",
       "              3109  287519  102103      冷冻鲜肉    0\n",
       "              3110  291209  102103      冷冻鲜肉    0\n",
       "              3111  291234  102103      冷冻鲜肉    0\n",
       "              3112  291584  102103      冷冻鲜肉    0\n",
       "              3113  292142  102103      冷冻鲜肉    0\n",
       "              3114  284006  104323        牙签    0\n",
       "              3115  263864  103376   500元充值卡    0\n",
       "              3116  268178  103376   500元充值卡    0\n",
       "              3117  268277  103376   500元充值卡    0\n",
       "              3118  285796  103376   500元充值卡    0\n",
       "              3119  286098  103376   500元充值卡    0\n",
       "              3120  257077  103376   500元充值卡    0\n",
       "              3121  261240  103376   500元充值卡    0\n",
       "              3122  265594  103376   500元充值卡    0\n",
       "              3123  265982  103376   500元充值卡    0\n",
       "              3124  266432  103376   500元充值卡    0\n",
       "              3125  282903  103376   500元充值卡    0\n",
       "              3126  283994  103376   500元充值卡    0\n",
       "              3127  284171  103376   500元充值卡    0\n",
       "              3128  256095  103376   500元充值卡    0\n",
       "              3129  256499  103376   500元充值卡    0\n",
       "              \n",
       "              [3130 rows x 4 columns]),\n",
       "             ('顾客信息',\n",
       "                      客户ID   登陆次数  注册时间(距1970-1-1的秒数)  本次购买时间(距1970-1-1的秒数)    经验值  订单数\n",
       "              0       5245     55          1430413266            1495339734    206    1\n",
       "              1       5254     69          1430413266            1499041945    428   13\n",
       "              2       5286     57          1430413266            1509936376    280    1\n",
       "              3       5292    184          1430413266            1510135868    643    5\n",
       "              4       5474     71          1430413266            1481185064     61    2\n",
       "              5       5544    520          1430413266            1511065463   5033  103\n",
       "              6       5547     30          1430413266            1510577047    477    8\n",
       "              7       5552   2699          1430413266            1511245956  12673  164\n",
       "              8       5560     39          1430413266            1481811865     27    0\n",
       "              9       5580    137          1430413266            1506301413    236    2\n",
       "              10      5625    463          1430413266            1510935255   2087   14\n",
       "              11      5628    356          1430413266            1511145498  11494  166\n",
       "              12      5661  11675          1430413266            1511224143  34701  487\n",
       "              13      5690   1769          1430413266            1511175196  13398  182\n",
       "              14      5699    634          1430413266            1510274405   8415  121\n",
       "              15      5701     94          1430413266            1481201883    512    8\n",
       "              16      5723     29          1430413266            1488960790    163    2\n",
       "              17      5725   1372          1430413266            1510625605   9243  126\n",
       "              18      5726   1576          1430413266            1511162452  13078  193\n",
       "              19      5727    102          1430413266            1510223946   2574   37\n",
       "              20      5728    164          1430413266            1498397004    863   16\n",
       "              21      5734   1193          1430413266            1511169496   6852   86\n",
       "              22      5740    826          1430413266            1506164574   2309   19\n",
       "              23      5767     80          1430413266            1506216500   1681   17\n",
       "              24      5785     62          1430413266            1506783217    249    5\n",
       "              25      5789    170          1430413266            1511140849   1373   20\n",
       "              26      5804    730          1430413266            1511190699   2851   28\n",
       "              27      5816    374          1430413266            1508748129   1225   15\n",
       "              28      5880    206          1430413266            1511146306   3913   70\n",
       "              29      5912    288          1430413266            1510033445   1755   26\n",
       "              ...      ...    ...                 ...                   ...    ...  ...\n",
       "              2970  168758     18          1510124356            1510960789    105    2\n",
       "              2971  168792     15          1510136872            1510661772     60    1\n",
       "              2972  168831     78          1510182960            1511241351    635   10\n",
       "              2973  168834     12          1510187047            1511239077    102    3\n",
       "              2974  168948      6          1510233924            1510234362     48    1\n",
       "              2975  168976      7          1510275950            1511166273     66    3\n",
       "              2976  168981     30          1510278673            1511184888    146    2\n",
       "              2977  168991      6          1510280818            1510456811    129    3\n",
       "              2978  169031     10          1510287019            1510613142     27    1\n",
       "              2979  169049      7          1510292348            1510392612     43    1\n",
       "              2980  169084     11          1510303482            1510927533     94    1\n",
       "              2981  169106     23          1510312431            1511054357    215    2\n",
       "              2982  169132     18          1510324837            1511090706     75    2\n",
       "              2983  169197     38          1510373093            1510890780     66    1\n",
       "              2984  169217     28          1510377281            1510877581     38    1\n",
       "              2985  169269      4          1510388952            1510388952      7    1\n",
       "              2986  169276      6          1510391145            1511008391     50    1\n",
       "              2987  169299      9          1510397978            1511187978     27    1\n",
       "              2988  169318      8          1510407061            1510615622    154    2\n",
       "              2989  169393     14          1510464820            1511147607    187    3\n",
       "              2990  169445     13          1510487420            1510645072     84    1\n",
       "              2991  169598     35          1510618726            1510983354     63    2\n",
       "              2992  169613     11          1510627070            1510746988     12    1\n",
       "              2993  169614      9          1510627121            1510889773     33    1\n",
       "              2994  169691      6          1510657422            1510706666     73    1\n",
       "              2995  169699     20          1510662595            1511217077    153    3\n",
       "              2996  169815     13          1510753437            1511159975     57    1\n",
       "              2997  169832     12          1510793074            1511142183     62    1\n",
       "              2998  169934     14          1510841381            1510971292     68    2\n",
       "              2999  169976     16          1510908302            1511184987     27    1\n",
       "              \n",
       "              [3000 rows x 6 columns])])"
      ]
     },
     "execution_count": 3,
     "metadata": {},
     "output_type": "execute_result"
    }
   ],
   "source": [
    "shop = pd.read_excel('data/shop.xlsx',None)\n",
    "shop"
   ]
  },
  {
   "cell_type": "code",
   "execution_count": 5,
   "metadata": {},
   "outputs": [
    {
     "data": {
      "text/html": [
       "<div>\n",
       "<style scoped>\n",
       "    .dataframe tbody tr th:only-of-type {\n",
       "        vertical-align: middle;\n",
       "    }\n",
       "\n",
       "    .dataframe tbody tr th {\n",
       "        vertical-align: top;\n",
       "    }\n",
       "\n",
       "    .dataframe thead th {\n",
       "        text-align: right;\n",
       "    }\n",
       "</style>\n",
       "<table border=\"1\" class=\"dataframe\">\n",
       "  <thead>\n",
       "    <tr style=\"text-align: right;\">\n",
       "      <th></th>\n",
       "      <th>订单ID</th>\n",
       "      <th>客户ID</th>\n",
       "      <th>订单状态</th>\n",
       "      <th>优惠类型</th>\n",
       "    </tr>\n",
       "  </thead>\n",
       "  <tbody>\n",
       "    <tr>\n",
       "      <th>0</th>\n",
       "      <td>47739</td>\n",
       "      <td>5245</td>\n",
       "      <td>1</td>\n",
       "      <td>0</td>\n",
       "    </tr>\n",
       "    <tr>\n",
       "      <th>1</th>\n",
       "      <td>341269</td>\n",
       "      <td>5245</td>\n",
       "      <td>0</td>\n",
       "      <td>0</td>\n",
       "    </tr>\n",
       "    <tr>\n",
       "      <th>2</th>\n",
       "      <td>32690</td>\n",
       "      <td>5254</td>\n",
       "      <td>1</td>\n",
       "      <td>0</td>\n",
       "    </tr>\n",
       "    <tr>\n",
       "      <th>3</th>\n",
       "      <td>45641</td>\n",
       "      <td>5254</td>\n",
       "      <td>1</td>\n",
       "      <td>0</td>\n",
       "    </tr>\n",
       "    <tr>\n",
       "      <th>4</th>\n",
       "      <td>66116</td>\n",
       "      <td>5254</td>\n",
       "      <td>1</td>\n",
       "      <td>0</td>\n",
       "    </tr>\n",
       "  </tbody>\n",
       "</table>\n",
       "</div>"
      ],
      "text/plain": [
       "     订单ID  客户ID  订单状态  优惠类型\n",
       "0   47739  5245     1     0\n",
       "1  341269  5245     0     0\n",
       "2   32690  5254     1     0\n",
       "3   45641  5254     1     0\n",
       "4   66116  5254     1     0"
      ]
     },
     "execution_count": 5,
     "metadata": {},
     "output_type": "execute_result"
    }
   ],
   "source": [
    "dingdan = shop['订单信息']\n",
    "dingdan.head()"
   ]
  },
  {
   "cell_type": "code",
   "execution_count": 6,
   "metadata": {},
   "outputs": [
    {
     "data": {
      "text/html": [
       "<div>\n",
       "<style scoped>\n",
       "    .dataframe tbody tr th:only-of-type {\n",
       "        vertical-align: middle;\n",
       "    }\n",
       "\n",
       "    .dataframe tbody tr th {\n",
       "        vertical-align: top;\n",
       "    }\n",
       "\n",
       "    .dataframe thead th {\n",
       "        text-align: right;\n",
       "    }\n",
       "</style>\n",
       "<table border=\"1\" class=\"dataframe\">\n",
       "  <thead>\n",
       "    <tr style=\"text-align: right;\">\n",
       "      <th></th>\n",
       "      <th>订单ID</th>\n",
       "      <th>货物ID</th>\n",
       "      <th>货物名称</th>\n",
       "      <th>优惠额度</th>\n",
       "    </tr>\n",
       "  </thead>\n",
       "  <tbody>\n",
       "    <tr>\n",
       "      <th>0</th>\n",
       "      <td>264971</td>\n",
       "      <td>103247</td>\n",
       "      <td>自然乐园水果礼盒</td>\n",
       "      <td>&gt;15</td>\n",
       "    </tr>\n",
       "    <tr>\n",
       "      <th>1</th>\n",
       "      <td>264994</td>\n",
       "      <td>103247</td>\n",
       "      <td>自然乐园水果礼盒</td>\n",
       "      <td>&gt;15</td>\n",
       "    </tr>\n",
       "    <tr>\n",
       "      <th>2</th>\n",
       "      <td>266829</td>\n",
       "      <td>103247</td>\n",
       "      <td>自然乐园水果礼盒</td>\n",
       "      <td>&gt;15</td>\n",
       "    </tr>\n",
       "    <tr>\n",
       "      <th>3</th>\n",
       "      <td>267232</td>\n",
       "      <td>103247</td>\n",
       "      <td>自然乐园水果礼盒</td>\n",
       "      <td>&gt;15</td>\n",
       "    </tr>\n",
       "    <tr>\n",
       "      <th>4</th>\n",
       "      <td>269051</td>\n",
       "      <td>103247</td>\n",
       "      <td>自然乐园水果礼盒</td>\n",
       "      <td>&gt;15</td>\n",
       "    </tr>\n",
       "  </tbody>\n",
       "</table>\n",
       "</div>"
      ],
      "text/plain": [
       "     订单ID    货物ID      货物名称 优惠额度\n",
       "0  264971  103247  自然乐园水果礼盒  >15\n",
       "1  264994  103247  自然乐园水果礼盒  >15\n",
       "2  266829  103247  自然乐园水果礼盒  >15\n",
       "3  267232  103247  自然乐园水果礼盒  >15\n",
       "4  269051  103247  自然乐园水果礼盒  >15"
      ]
     },
     "execution_count": 6,
     "metadata": {},
     "output_type": "execute_result"
    }
   ],
   "source": [
    "huowu = shop['货物信息']\n",
    "huowu.head()"
   ]
  },
  {
   "cell_type": "code",
   "execution_count": 7,
   "metadata": {},
   "outputs": [
    {
     "data": {
      "text/html": [
       "<div>\n",
       "<style scoped>\n",
       "    .dataframe tbody tr th:only-of-type {\n",
       "        vertical-align: middle;\n",
       "    }\n",
       "\n",
       "    .dataframe tbody tr th {\n",
       "        vertical-align: top;\n",
       "    }\n",
       "\n",
       "    .dataframe thead th {\n",
       "        text-align: right;\n",
       "    }\n",
       "</style>\n",
       "<table border=\"1\" class=\"dataframe\">\n",
       "  <thead>\n",
       "    <tr style=\"text-align: right;\">\n",
       "      <th></th>\n",
       "      <th>客户ID</th>\n",
       "      <th>登陆次数</th>\n",
       "      <th>注册时间(距1970-1-1的秒数)</th>\n",
       "      <th>本次购买时间(距1970-1-1的秒数)</th>\n",
       "      <th>经验值</th>\n",
       "      <th>订单数</th>\n",
       "    </tr>\n",
       "  </thead>\n",
       "  <tbody>\n",
       "    <tr>\n",
       "      <th>0</th>\n",
       "      <td>5245</td>\n",
       "      <td>55</td>\n",
       "      <td>1430413266</td>\n",
       "      <td>1495339734</td>\n",
       "      <td>206</td>\n",
       "      <td>1</td>\n",
       "    </tr>\n",
       "    <tr>\n",
       "      <th>1</th>\n",
       "      <td>5254</td>\n",
       "      <td>69</td>\n",
       "      <td>1430413266</td>\n",
       "      <td>1499041945</td>\n",
       "      <td>428</td>\n",
       "      <td>13</td>\n",
       "    </tr>\n",
       "    <tr>\n",
       "      <th>2</th>\n",
       "      <td>5286</td>\n",
       "      <td>57</td>\n",
       "      <td>1430413266</td>\n",
       "      <td>1509936376</td>\n",
       "      <td>280</td>\n",
       "      <td>1</td>\n",
       "    </tr>\n",
       "    <tr>\n",
       "      <th>3</th>\n",
       "      <td>5292</td>\n",
       "      <td>184</td>\n",
       "      <td>1430413266</td>\n",
       "      <td>1510135868</td>\n",
       "      <td>643</td>\n",
       "      <td>5</td>\n",
       "    </tr>\n",
       "    <tr>\n",
       "      <th>4</th>\n",
       "      <td>5474</td>\n",
       "      <td>71</td>\n",
       "      <td>1430413266</td>\n",
       "      <td>1481185064</td>\n",
       "      <td>61</td>\n",
       "      <td>2</td>\n",
       "    </tr>\n",
       "  </tbody>\n",
       "</table>\n",
       "</div>"
      ],
      "text/plain": [
       "   客户ID  登陆次数  注册时间(距1970-1-1的秒数)  本次购买时间(距1970-1-1的秒数)  经验值 订单数\n",
       "0  5245    55          1430413266            1495339734  206   1\n",
       "1  5254    69          1430413266            1499041945  428  13\n",
       "2  5286    57          1430413266            1509936376  280   1\n",
       "3  5292   184          1430413266            1510135868  643   5\n",
       "4  5474    71          1430413266            1481185064   61   2"
      ]
     },
     "execution_count": 7,
     "metadata": {},
     "output_type": "execute_result"
    }
   ],
   "source": [
    "guke = shop['顾客信息']\n",
    "guke.head()"
   ]
  },
  {
   "cell_type": "code",
   "execution_count": 8,
   "metadata": {},
   "outputs": [
    {
     "name": "stdout",
     "output_type": "stream",
     "text": [
      "<class 'pandas.core.frame.DataFrame'>\n",
      "RangeIndex: 29150 entries, 0 to 29149\n",
      "Data columns (total 4 columns):\n",
      "订单ID    29150 non-null int64\n",
      "客户ID    29150 non-null int64\n",
      "订单状态    29150 non-null int64\n",
      "优惠类型    29150 non-null int64\n",
      "dtypes: int64(4)\n",
      "memory usage: 911.0 KB\n",
      "<class 'pandas.core.frame.DataFrame'>\n",
      "RangeIndex: 3130 entries, 0 to 3129\n",
      "Data columns (total 4 columns):\n",
      "订单ID    3130 non-null int64\n",
      "货物ID    3130 non-null int64\n",
      "货物名称    3130 non-null object\n",
      "优惠额度    3130 non-null object\n",
      "dtypes: int64(2), object(2)\n",
      "memory usage: 97.9+ KB\n",
      "<class 'pandas.core.frame.DataFrame'>\n",
      "RangeIndex: 3000 entries, 0 to 2999\n",
      "Data columns (total 6 columns):\n",
      "客户ID                    3000 non-null int64\n",
      "登陆次数                    3000 non-null int64\n",
      "注册时间(距1970-1-1的秒数)      3000 non-null int64\n",
      "本次购买时间(距1970-1-1的秒数)    3000 non-null int64\n",
      "经验值                     3000 non-null int64\n",
      "订单数                     3000 non-null object\n",
      "dtypes: int64(5), object(1)\n",
      "memory usage: 140.7+ KB\n"
     ]
    }
   ],
   "source": [
    "dingdan.info()\n",
    "huowu.info()\n",
    "guke.info()"
   ]
  },
  {
   "cell_type": "markdown",
   "metadata": {},
   "source": [
    " ####  顾客信息表，订单数列，数据类型错误"
   ]
  },
  {
   "cell_type": "code",
   "execution_count": 13,
   "metadata": {},
   "outputs": [
    {
     "data": {
      "text/plain": [
       "int"
      ]
     },
     "execution_count": 13,
     "metadata": {},
     "output_type": "execute_result"
    }
   ],
   "source": [
    "type(guke.loc[0,'订单数'])"
   ]
  },
  {
   "cell_type": "markdown",
   "metadata": {},
   "source": [
    "### 找到错误值"
   ]
  },
  {
   "cell_type": "code",
   "execution_count": 196,
   "metadata": {},
   "outputs": [
    {
     "name": "stdout",
     "output_type": "stream",
     "text": [
      "46 -- yb8e507534\n"
     ]
    }
   ],
   "source": [
    "for index,row in guke.iterrows():\n",
    "#     print(row['订单数'])\n",
    "    if type(row['订单数']) != np.int:\n",
    "        print(index,'--',row['订单数'])"
   ]
  },
  {
   "cell_type": "code",
   "execution_count": 17,
   "metadata": {},
   "outputs": [
    {
     "data": {
      "text/plain": [
       "'yb8e507534'"
      ]
     },
     "execution_count": 17,
     "metadata": {},
     "output_type": "execute_result"
    }
   ],
   "source": [
    "guke.loc[46,'订单数']"
   ]
  },
  {
   "cell_type": "code",
   "execution_count": 197,
   "metadata": {},
   "outputs": [
    {
     "data": {
      "text/html": [
       "<div>\n",
       "<style scoped>\n",
       "    .dataframe tbody tr th:only-of-type {\n",
       "        vertical-align: middle;\n",
       "    }\n",
       "\n",
       "    .dataframe tbody tr th {\n",
       "        vertical-align: top;\n",
       "    }\n",
       "\n",
       "    .dataframe thead th {\n",
       "        text-align: right;\n",
       "    }\n",
       "</style>\n",
       "<table border=\"1\" class=\"dataframe\">\n",
       "  <thead>\n",
       "    <tr style=\"text-align: right;\">\n",
       "      <th></th>\n",
       "      <th>客户ID</th>\n",
       "      <th>登陆次数</th>\n",
       "      <th>注册时间(距1970-1-1的秒数)</th>\n",
       "      <th>本次购买时间(距1970-1-1的秒数)</th>\n",
       "      <th>经验值</th>\n",
       "      <th>订单数</th>\n",
       "    </tr>\n",
       "  </thead>\n",
       "  <tbody>\n",
       "    <tr>\n",
       "      <th>46</th>\n",
       "      <td>6243</td>\n",
       "      <td>2829</td>\n",
       "      <td>1430413266</td>\n",
       "      <td>1511178943</td>\n",
       "      <td>1172</td>\n",
       "      <td>yb8e507534</td>\n",
       "    </tr>\n",
       "  </tbody>\n",
       "</table>\n",
       "</div>"
      ],
      "text/plain": [
       "    客户ID  登陆次数  注册时间(距1970-1-1的秒数)  本次购买时间(距1970-1-1的秒数)   经验值         订单数\n",
       "46  6243  2829          1430413266            1511178943  1172  yb8e507534"
      ]
     },
     "execution_count": 197,
     "metadata": {},
     "output_type": "execute_result"
    }
   ],
   "source": [
    "def aaa(x):\n",
    "    if type(x['订单数']) == np.int:\n",
    "        return False\n",
    "    else:\n",
    "        return True\n",
    "guke[guke.apply(aaa,axis=1)]"
   ]
  },
  {
   "cell_type": "code",
   "execution_count": 198,
   "metadata": {},
   "outputs": [
    {
     "data": {
      "text/plain": [
       "客户ID                          6243\n",
       "登陆次数                          2829\n",
       "注册时间(距1970-1-1的秒数)      1430413266\n",
       "本次购买时间(距1970-1-1的秒数)    1511178943\n",
       "经验值                           1172\n",
       "订单数                            NaN\n",
       "Name: 46, dtype: object"
      ]
     },
     "execution_count": 198,
     "metadata": {},
     "output_type": "execute_result"
    }
   ],
   "source": [
    "# 缺失值替换错误值\n",
    "guke.loc[46,'订单数'] = np.nan\n",
    "guke.loc[46,]"
   ]
  },
  {
   "cell_type": "markdown",
   "metadata": {},
   "source": [
    "### 从其它表中数据得出本客户ID订单数据"
   ]
  },
  {
   "cell_type": "code",
   "execution_count": 23,
   "metadata": {},
   "outputs": [
    {
     "data": {
      "text/plain": [
       "客户ID                          6243\n",
       "登陆次数                          2829\n",
       "注册时间(距1970-1-1的秒数)      1430413266\n",
       "本次购买时间(距1970-1-1的秒数)    1511178943\n",
       "经验值                           1172\n",
       "订单数                            NaN\n",
       "Name: 46, dtype: object"
      ]
     },
     "execution_count": 23,
     "metadata": {},
     "output_type": "execute_result"
    }
   ],
   "source": [
    "guke.loc[46]"
   ]
  },
  {
   "cell_type": "code",
   "execution_count": 24,
   "metadata": {},
   "outputs": [
    {
     "data": {
      "text/plain": [
       "146"
      ]
     },
     "execution_count": 24,
     "metadata": {},
     "output_type": "execute_result"
    }
   ],
   "source": [
    "# 查询错误值客户ID订单数\n",
    "dingdan[dingdan['客户ID'] == 6243].shape[0]"
   ]
  },
  {
   "cell_type": "code",
   "execution_count": 200,
   "metadata": {},
   "outputs": [
    {
     "data": {
      "text/plain": [
       "客户ID                          6243\n",
       "登陆次数                          2829\n",
       "注册时间(距1970-1-1的秒数)      1430413266\n",
       "本次购买时间(距1970-1-1的秒数)    1511178943\n",
       "经验值                           1172\n",
       "订单数                            146\n",
       "Name: 46, dtype: int64"
      ]
     },
     "execution_count": 200,
     "metadata": {},
     "output_type": "execute_result"
    }
   ],
   "source": [
    "# 即错误值数为 146\n",
    "guke.loc[46, '订单数'] = 146\n",
    "guke.loc[46]"
   ]
  },
  {
   "cell_type": "markdown",
   "metadata": {},
   "source": [
    "查看异常值"
   ]
  },
  {
   "cell_type": "code",
   "execution_count": 26,
   "metadata": {},
   "outputs": [
    {
     "name": "stdout",
     "output_type": "stream",
     "text": [
      "<class 'pandas.core.frame.DataFrame'>\n",
      "RangeIndex: 3000 entries, 0 to 2999\n",
      "Data columns (total 6 columns):\n",
      "客户ID                    3000 non-null int64\n",
      "登陆次数                    3000 non-null int64\n",
      "注册时间(距1970-1-1的秒数)      3000 non-null int64\n",
      "本次购买时间(距1970-1-1的秒数)    3000 non-null int64\n",
      "经验值                     3000 non-null int64\n",
      "订单数                     3000 non-null int64\n",
      "dtypes: int64(6)\n",
      "memory usage: 140.7 KB\n"
     ]
    }
   ],
   "source": [
    "guke.info()"
   ]
  },
  {
   "cell_type": "code",
   "execution_count": 27,
   "metadata": {},
   "outputs": [
    {
     "data": {
      "text/html": [
       "<div>\n",
       "<style scoped>\n",
       "    .dataframe tbody tr th:only-of-type {\n",
       "        vertical-align: middle;\n",
       "    }\n",
       "\n",
       "    .dataframe tbody tr th {\n",
       "        vertical-align: top;\n",
       "    }\n",
       "\n",
       "    .dataframe thead th {\n",
       "        text-align: right;\n",
       "    }\n",
       "</style>\n",
       "<table border=\"1\" class=\"dataframe\">\n",
       "  <thead>\n",
       "    <tr style=\"text-align: right;\">\n",
       "      <th></th>\n",
       "      <th>订单ID</th>\n",
       "      <th>客户ID</th>\n",
       "      <th>订单状态</th>\n",
       "      <th>优惠类型</th>\n",
       "    </tr>\n",
       "  </thead>\n",
       "  <tbody>\n",
       "    <tr>\n",
       "      <th>count</th>\n",
       "      <td>29150.000000</td>\n",
       "      <td>29150.000000</td>\n",
       "      <td>29150.000000</td>\n",
       "      <td>29150.000000</td>\n",
       "    </tr>\n",
       "    <tr>\n",
       "      <th>mean</th>\n",
       "      <td>249006.753413</td>\n",
       "      <td>61639.974305</td>\n",
       "      <td>0.828027</td>\n",
       "      <td>0.513242</td>\n",
       "    </tr>\n",
       "    <tr>\n",
       "      <th>std</th>\n",
       "      <td>116588.726172</td>\n",
       "      <td>49897.424880</td>\n",
       "      <td>0.377363</td>\n",
       "      <td>0.499833</td>\n",
       "    </tr>\n",
       "    <tr>\n",
       "      <th>min</th>\n",
       "      <td>29787.000000</td>\n",
       "      <td>5245.000000</td>\n",
       "      <td>0.000000</td>\n",
       "      <td>0.000000</td>\n",
       "    </tr>\n",
       "    <tr>\n",
       "      <th>25%</th>\n",
       "      <td>167595.750000</td>\n",
       "      <td>20428.000000</td>\n",
       "      <td>1.000000</td>\n",
       "      <td>0.000000</td>\n",
       "    </tr>\n",
       "    <tr>\n",
       "      <th>50%</th>\n",
       "      <td>254617.500000</td>\n",
       "      <td>42854.000000</td>\n",
       "      <td>1.000000</td>\n",
       "      <td>1.000000</td>\n",
       "    </tr>\n",
       "    <tr>\n",
       "      <th>75%</th>\n",
       "      <td>344684.500000</td>\n",
       "      <td>120409.000000</td>\n",
       "      <td>1.000000</td>\n",
       "      <td>1.000000</td>\n",
       "    </tr>\n",
       "    <tr>\n",
       "      <th>max</th>\n",
       "      <td>447649.000000</td>\n",
       "      <td>169976.000000</td>\n",
       "      <td>1.000000</td>\n",
       "      <td>1.000000</td>\n",
       "    </tr>\n",
       "  </tbody>\n",
       "</table>\n",
       "</div>"
      ],
      "text/plain": [
       "                订单ID           客户ID          订单状态          优惠类型\n",
       "count   29150.000000   29150.000000  29150.000000  29150.000000\n",
       "mean   249006.753413   61639.974305      0.828027      0.513242\n",
       "std    116588.726172   49897.424880      0.377363      0.499833\n",
       "min     29787.000000    5245.000000      0.000000      0.000000\n",
       "25%    167595.750000   20428.000000      1.000000      0.000000\n",
       "50%    254617.500000   42854.000000      1.000000      1.000000\n",
       "75%    344684.500000  120409.000000      1.000000      1.000000\n",
       "max    447649.000000  169976.000000      1.000000      1.000000"
      ]
     },
     "execution_count": 27,
     "metadata": {},
     "output_type": "execute_result"
    }
   ],
   "source": [
    "dingdan.describe()"
   ]
  },
  {
   "cell_type": "code",
   "execution_count": 28,
   "metadata": {},
   "outputs": [
    {
     "data": {
      "text/html": [
       "<div>\n",
       "<style scoped>\n",
       "    .dataframe tbody tr th:only-of-type {\n",
       "        vertical-align: middle;\n",
       "    }\n",
       "\n",
       "    .dataframe tbody tr th {\n",
       "        vertical-align: top;\n",
       "    }\n",
       "\n",
       "    .dataframe thead th {\n",
       "        text-align: right;\n",
       "    }\n",
       "</style>\n",
       "<table border=\"1\" class=\"dataframe\">\n",
       "  <thead>\n",
       "    <tr style=\"text-align: right;\">\n",
       "      <th></th>\n",
       "      <th>订单ID</th>\n",
       "      <th>货物ID</th>\n",
       "    </tr>\n",
       "  </thead>\n",
       "  <tbody>\n",
       "    <tr>\n",
       "      <th>count</th>\n",
       "      <td>3130.000000</td>\n",
       "      <td>3130.000000</td>\n",
       "    </tr>\n",
       "    <tr>\n",
       "      <th>mean</th>\n",
       "      <td>274072.237380</td>\n",
       "      <td>102503.992652</td>\n",
       "    </tr>\n",
       "    <tr>\n",
       "      <th>std</th>\n",
       "      <td>10460.610208</td>\n",
       "      <td>905.268944</td>\n",
       "    </tr>\n",
       "    <tr>\n",
       "      <th>min</th>\n",
       "      <td>253908.000000</td>\n",
       "      <td>100891.000000</td>\n",
       "    </tr>\n",
       "    <tr>\n",
       "      <th>25%</th>\n",
       "      <td>266745.500000</td>\n",
       "      <td>101662.000000</td>\n",
       "    </tr>\n",
       "    <tr>\n",
       "      <th>50%</th>\n",
       "      <td>274352.000000</td>\n",
       "      <td>102103.000000</td>\n",
       "    </tr>\n",
       "    <tr>\n",
       "      <th>75%</th>\n",
       "      <td>282988.250000</td>\n",
       "      <td>103262.000000</td>\n",
       "    </tr>\n",
       "    <tr>\n",
       "      <th>max</th>\n",
       "      <td>292811.000000</td>\n",
       "      <td>104456.000000</td>\n",
       "    </tr>\n",
       "  </tbody>\n",
       "</table>\n",
       "</div>"
      ],
      "text/plain": [
       "                订单ID           货物ID\n",
       "count    3130.000000    3130.000000\n",
       "mean   274072.237380  102503.992652\n",
       "std     10460.610208     905.268944\n",
       "min    253908.000000  100891.000000\n",
       "25%    266745.500000  101662.000000\n",
       "50%    274352.000000  102103.000000\n",
       "75%    282988.250000  103262.000000\n",
       "max    292811.000000  104456.000000"
      ]
     },
     "execution_count": 28,
     "metadata": {},
     "output_type": "execute_result"
    }
   ],
   "source": [
    "huowu.describe()"
   ]
  },
  {
   "cell_type": "code",
   "execution_count": 29,
   "metadata": {},
   "outputs": [
    {
     "data": {
      "text/html": [
       "<div>\n",
       "<style scoped>\n",
       "    .dataframe tbody tr th:only-of-type {\n",
       "        vertical-align: middle;\n",
       "    }\n",
       "\n",
       "    .dataframe tbody tr th {\n",
       "        vertical-align: top;\n",
       "    }\n",
       "\n",
       "    .dataframe thead th {\n",
       "        text-align: right;\n",
       "    }\n",
       "</style>\n",
       "<table border=\"1\" class=\"dataframe\">\n",
       "  <thead>\n",
       "    <tr style=\"text-align: right;\">\n",
       "      <th></th>\n",
       "      <th>客户ID</th>\n",
       "      <th>登陆次数</th>\n",
       "      <th>注册时间(距1970-1-1的秒数)</th>\n",
       "      <th>本次购买时间(距1970-1-1的秒数)</th>\n",
       "      <th>经验值</th>\n",
       "      <th>订单数</th>\n",
       "    </tr>\n",
       "  </thead>\n",
       "  <tbody>\n",
       "    <tr>\n",
       "      <th>count</th>\n",
       "      <td>3000.000000</td>\n",
       "      <td>3000.000000</td>\n",
       "      <td>3.000000e+03</td>\n",
       "      <td>3.000000e+03</td>\n",
       "      <td>3000.000000</td>\n",
       "      <td>3000.000000</td>\n",
       "    </tr>\n",
       "    <tr>\n",
       "      <th>mean</th>\n",
       "      <td>102669.020667</td>\n",
       "      <td>157.338333</td>\n",
       "      <td>1.474146e+09</td>\n",
       "      <td>1.496260e+09</td>\n",
       "      <td>672.358667</td>\n",
       "      <td>8.494667</td>\n",
       "    </tr>\n",
       "    <tr>\n",
       "      <th>std</th>\n",
       "      <td>44547.168855</td>\n",
       "      <td>406.994135</td>\n",
       "      <td>1.609252e+07</td>\n",
       "      <td>1.269127e+07</td>\n",
       "      <td>1646.677601</td>\n",
       "      <td>23.129656</td>\n",
       "    </tr>\n",
       "    <tr>\n",
       "      <th>min</th>\n",
       "      <td>5245.000000</td>\n",
       "      <td>4.000000</td>\n",
       "      <td>1.430413e+09</td>\n",
       "      <td>1.469535e+09</td>\n",
       "      <td>7.000000</td>\n",
       "      <td>0.000000</td>\n",
       "    </tr>\n",
       "    <tr>\n",
       "      <th>25%</th>\n",
       "      <td>67114.250000</td>\n",
       "      <td>19.000000</td>\n",
       "      <td>1.465985e+09</td>\n",
       "      <td>1.482673e+09</td>\n",
       "      <td>51.000000</td>\n",
       "      <td>1.000000</td>\n",
       "    </tr>\n",
       "    <tr>\n",
       "      <th>50%</th>\n",
       "      <td>123393.000000</td>\n",
       "      <td>46.000000</td>\n",
       "      <td>1.480582e+09</td>\n",
       "      <td>1.496886e+09</td>\n",
       "      <td>146.000000</td>\n",
       "      <td>2.000000</td>\n",
       "    </tr>\n",
       "    <tr>\n",
       "      <th>75%</th>\n",
       "      <td>130771.250000</td>\n",
       "      <td>131.000000</td>\n",
       "      <td>1.481637e+09</td>\n",
       "      <td>1.510270e+09</td>\n",
       "      <td>593.250000</td>\n",
       "      <td>6.000000</td>\n",
       "    </tr>\n",
       "    <tr>\n",
       "      <th>max</th>\n",
       "      <td>169976.000000</td>\n",
       "      <td>11675.000000</td>\n",
       "      <td>1.510908e+09</td>\n",
       "      <td>1.511247e+09</td>\n",
       "      <td>34701.000000</td>\n",
       "      <td>487.000000</td>\n",
       "    </tr>\n",
       "  </tbody>\n",
       "</table>\n",
       "</div>"
      ],
      "text/plain": [
       "                客户ID          登陆次数  注册时间(距1970-1-1的秒数)  本次购买时间(距1970-1-1的秒数)  \\\n",
       "count    3000.000000   3000.000000        3.000000e+03          3.000000e+03   \n",
       "mean   102669.020667    157.338333        1.474146e+09          1.496260e+09   \n",
       "std     44547.168855    406.994135        1.609252e+07          1.269127e+07   \n",
       "min      5245.000000      4.000000        1.430413e+09          1.469535e+09   \n",
       "25%     67114.250000     19.000000        1.465985e+09          1.482673e+09   \n",
       "50%    123393.000000     46.000000        1.480582e+09          1.496886e+09   \n",
       "75%    130771.250000    131.000000        1.481637e+09          1.510270e+09   \n",
       "max    169976.000000  11675.000000        1.510908e+09          1.511247e+09   \n",
       "\n",
       "                经验值          订单数  \n",
       "count   3000.000000  3000.000000  \n",
       "mean     672.358667     8.494667  \n",
       "std     1646.677601    23.129656  \n",
       "min        7.000000     0.000000  \n",
       "25%       51.000000     1.000000  \n",
       "50%      146.000000     2.000000  \n",
       "75%      593.250000     6.000000  \n",
       "max    34701.000000   487.000000  "
      ]
     },
     "execution_count": 29,
     "metadata": {},
     "output_type": "execute_result"
    }
   ],
   "source": [
    "guke.describe()"
   ]
  },
  {
   "cell_type": "code",
   "execution_count": 30,
   "metadata": {},
   "outputs": [
    {
     "data": {
      "text/html": [
       "<div>\n",
       "<style scoped>\n",
       "    .dataframe tbody tr th:only-of-type {\n",
       "        vertical-align: middle;\n",
       "    }\n",
       "\n",
       "    .dataframe tbody tr th {\n",
       "        vertical-align: top;\n",
       "    }\n",
       "\n",
       "    .dataframe thead th {\n",
       "        text-align: right;\n",
       "    }\n",
       "</style>\n",
       "<table border=\"1\" class=\"dataframe\">\n",
       "  <thead>\n",
       "    <tr style=\"text-align: right;\">\n",
       "      <th></th>\n",
       "      <th>客户ID</th>\n",
       "      <th>登陆次数</th>\n",
       "      <th>注册时间(距1970-1-1的秒数)</th>\n",
       "      <th>本次购买时间(距1970-1-1的秒数)</th>\n",
       "      <th>经验值</th>\n",
       "      <th>订单数</th>\n",
       "    </tr>\n",
       "  </thead>\n",
       "  <tbody>\n",
       "    <tr>\n",
       "      <th>12</th>\n",
       "      <td>5661</td>\n",
       "      <td>11675</td>\n",
       "      <td>1430413266</td>\n",
       "      <td>1511224143</td>\n",
       "      <td>34701</td>\n",
       "      <td>487</td>\n",
       "    </tr>\n",
       "    <tr>\n",
       "      <th>801</th>\n",
       "      <td>71153</td>\n",
       "      <td>6526</td>\n",
       "      <td>1467117300</td>\n",
       "      <td>1511245124</td>\n",
       "      <td>12508</td>\n",
       "      <td>180</td>\n",
       "    </tr>\n",
       "    <tr>\n",
       "      <th>51</th>\n",
       "      <td>6368</td>\n",
       "      <td>5332</td>\n",
       "      <td>1430413266</td>\n",
       "      <td>1511242197</td>\n",
       "      <td>10741</td>\n",
       "      <td>136</td>\n",
       "    </tr>\n",
       "    <tr>\n",
       "      <th>163</th>\n",
       "      <td>20397</td>\n",
       "      <td>3778</td>\n",
       "      <td>1436344864</td>\n",
       "      <td>1511228091</td>\n",
       "      <td>17158</td>\n",
       "      <td>315</td>\n",
       "    </tr>\n",
       "    <tr>\n",
       "      <th>253</th>\n",
       "      <td>25304</td>\n",
       "      <td>3509</td>\n",
       "      <td>1449304809</td>\n",
       "      <td>1511243343</td>\n",
       "      <td>13673</td>\n",
       "      <td>252</td>\n",
       "    </tr>\n",
       "    <tr>\n",
       "      <th>218</th>\n",
       "      <td>24705</td>\n",
       "      <td>3264</td>\n",
       "      <td>1448253287</td>\n",
       "      <td>1511218542</td>\n",
       "      <td>12626</td>\n",
       "      <td>158</td>\n",
       "    </tr>\n",
       "    <tr>\n",
       "      <th>166</th>\n",
       "      <td>20600</td>\n",
       "      <td>3107</td>\n",
       "      <td>1436432061</td>\n",
       "      <td>1511102956</td>\n",
       "      <td>15398</td>\n",
       "      <td>209</td>\n",
       "    </tr>\n",
       "    <tr>\n",
       "      <th>46</th>\n",
       "      <td>6243</td>\n",
       "      <td>2829</td>\n",
       "      <td>1430413266</td>\n",
       "      <td>1511178943</td>\n",
       "      <td>1172</td>\n",
       "      <td>146</td>\n",
       "    </tr>\n",
       "    <tr>\n",
       "      <th>7</th>\n",
       "      <td>5552</td>\n",
       "      <td>2699</td>\n",
       "      <td>1430413266</td>\n",
       "      <td>1511245956</td>\n",
       "      <td>12673</td>\n",
       "      <td>164</td>\n",
       "    </tr>\n",
       "    <tr>\n",
       "      <th>413</th>\n",
       "      <td>33650</td>\n",
       "      <td>2635</td>\n",
       "      <td>1456995096</td>\n",
       "      <td>1511161356</td>\n",
       "      <td>5139</td>\n",
       "      <td>54</td>\n",
       "    </tr>\n",
       "  </tbody>\n",
       "</table>\n",
       "</div>"
      ],
      "text/plain": [
       "      客户ID   登陆次数  注册时间(距1970-1-1的秒数)  本次购买时间(距1970-1-1的秒数)    经验值  订单数\n",
       "12    5661  11675          1430413266            1511224143  34701  487\n",
       "801  71153   6526          1467117300            1511245124  12508  180\n",
       "51    6368   5332          1430413266            1511242197  10741  136\n",
       "163  20397   3778          1436344864            1511228091  17158  315\n",
       "253  25304   3509          1449304809            1511243343  13673  252\n",
       "218  24705   3264          1448253287            1511218542  12626  158\n",
       "166  20600   3107          1436432061            1511102956  15398  209\n",
       "46    6243   2829          1430413266            1511178943   1172  146\n",
       "7     5552   2699          1430413266            1511245956  12673  164\n",
       "413  33650   2635          1456995096            1511161356   5139   54"
      ]
     },
     "execution_count": 30,
     "metadata": {},
     "output_type": "execute_result"
    }
   ],
   "source": [
    "#按登录次数排序\n",
    "guke.sort_values('登陆次数',ascending=False)[:10]"
   ]
  },
  {
   "cell_type": "code",
   "execution_count": 201,
   "metadata": {},
   "outputs": [
    {
     "data": {
      "text/html": [
       "<div>\n",
       "<style scoped>\n",
       "    .dataframe tbody tr th:only-of-type {\n",
       "        vertical-align: middle;\n",
       "    }\n",
       "\n",
       "    .dataframe tbody tr th {\n",
       "        vertical-align: top;\n",
       "    }\n",
       "\n",
       "    .dataframe thead th {\n",
       "        text-align: right;\n",
       "    }\n",
       "</style>\n",
       "<table border=\"1\" class=\"dataframe\">\n",
       "  <thead>\n",
       "    <tr style=\"text-align: right;\">\n",
       "      <th></th>\n",
       "      <th>客户ID</th>\n",
       "      <th>登陆次数</th>\n",
       "      <th>注册时间(距1970-1-1的秒数)</th>\n",
       "      <th>本次购买时间(距1970-1-1的秒数)</th>\n",
       "      <th>经验值</th>\n",
       "      <th>订单数</th>\n",
       "    </tr>\n",
       "  </thead>\n",
       "  <tbody>\n",
       "    <tr>\n",
       "      <th>2387</th>\n",
       "      <td>132571</td>\n",
       "      <td>13</td>\n",
       "      <td>1481947876</td>\n",
       "      <td>1481984446</td>\n",
       "      <td>26</td>\n",
       "      <td>0</td>\n",
       "    </tr>\n",
       "    <tr>\n",
       "      <th>2379</th>\n",
       "      <td>132497</td>\n",
       "      <td>163</td>\n",
       "      <td>1481907121</td>\n",
       "      <td>1507163000</td>\n",
       "      <td>428</td>\n",
       "      <td>0</td>\n",
       "    </tr>\n",
       "    <tr>\n",
       "      <th>2382</th>\n",
       "      <td>132518</td>\n",
       "      <td>17</td>\n",
       "      <td>1481938527</td>\n",
       "      <td>1482150970</td>\n",
       "      <td>52</td>\n",
       "      <td>0</td>\n",
       "    </tr>\n",
       "    <tr>\n",
       "      <th>2385</th>\n",
       "      <td>132543</td>\n",
       "      <td>30</td>\n",
       "      <td>1481942140</td>\n",
       "      <td>1503463783</td>\n",
       "      <td>86</td>\n",
       "      <td>0</td>\n",
       "    </tr>\n",
       "    <tr>\n",
       "      <th>2386</th>\n",
       "      <td>132561</td>\n",
       "      <td>97</td>\n",
       "      <td>1481946023</td>\n",
       "      <td>1504665228</td>\n",
       "      <td>346</td>\n",
       "      <td>0</td>\n",
       "    </tr>\n",
       "    <tr>\n",
       "      <th>1915</th>\n",
       "      <td>127494</td>\n",
       "      <td>37</td>\n",
       "      <td>1481209009</td>\n",
       "      <td>1482508443</td>\n",
       "      <td>132</td>\n",
       "      <td>0</td>\n",
       "    </tr>\n",
       "    <tr>\n",
       "      <th>2389</th>\n",
       "      <td>132637</td>\n",
       "      <td>32</td>\n",
       "      <td>1481956776</td>\n",
       "      <td>1482241685</td>\n",
       "      <td>33</td>\n",
       "      <td>0</td>\n",
       "    </tr>\n",
       "    <tr>\n",
       "      <th>2395</th>\n",
       "      <td>132682</td>\n",
       "      <td>18</td>\n",
       "      <td>1481964676</td>\n",
       "      <td>1482304250</td>\n",
       "      <td>26</td>\n",
       "      <td>0</td>\n",
       "    </tr>\n",
       "    <tr>\n",
       "      <th>2397</th>\n",
       "      <td>132691</td>\n",
       "      <td>33</td>\n",
       "      <td>1481966439</td>\n",
       "      <td>1482156010</td>\n",
       "      <td>77</td>\n",
       "      <td>0</td>\n",
       "    </tr>\n",
       "    <tr>\n",
       "      <th>2398</th>\n",
       "      <td>132697</td>\n",
       "      <td>36</td>\n",
       "      <td>1481967307</td>\n",
       "      <td>1482120951</td>\n",
       "      <td>46</td>\n",
       "      <td>0</td>\n",
       "    </tr>\n",
       "  </tbody>\n",
       "</table>\n",
       "</div>"
      ],
      "text/plain": [
       "        客户ID  登陆次数  注册时间(距1970-1-1的秒数)  本次购买时间(距1970-1-1的秒数)  经验值  订单数\n",
       "2387  132571    13          1481947876            1481984446   26    0\n",
       "2379  132497   163          1481907121            1507163000  428    0\n",
       "2382  132518    17          1481938527            1482150970   52    0\n",
       "2385  132543    30          1481942140            1503463783   86    0\n",
       "2386  132561    97          1481946023            1504665228  346    0\n",
       "1915  127494    37          1481209009            1482508443  132    0\n",
       "2389  132637    32          1481956776            1482241685   33    0\n",
       "2395  132682    18          1481964676            1482304250   26    0\n",
       "2397  132691    33          1481966439            1482156010   77    0\n",
       "2398  132697    36          1481967307            1482120951   46    0"
      ]
     },
     "execution_count": 201,
     "metadata": {},
     "output_type": "execute_result"
    }
   ],
   "source": [
    "# 按登录次数排序\n",
    "guke.sort_values('订单数',ascending=True)[:10]"
   ]
  },
  {
   "cell_type": "markdown",
   "metadata": {},
   "source": [
    "### 查找订单数为0的，查看是否有异常"
   ]
  },
  {
   "cell_type": "code",
   "execution_count": 32,
   "metadata": {},
   "outputs": [
    {
     "data": {
      "text/html": [
       "<div>\n",
       "<style scoped>\n",
       "    .dataframe tbody tr th:only-of-type {\n",
       "        vertical-align: middle;\n",
       "    }\n",
       "\n",
       "    .dataframe tbody tr th {\n",
       "        vertical-align: top;\n",
       "    }\n",
       "\n",
       "    .dataframe thead th {\n",
       "        text-align: right;\n",
       "    }\n",
       "</style>\n",
       "<table border=\"1\" class=\"dataframe\">\n",
       "  <thead>\n",
       "    <tr style=\"text-align: right;\">\n",
       "      <th></th>\n",
       "      <th>客户ID</th>\n",
       "      <th>登陆次数</th>\n",
       "      <th>注册时间(距1970-1-1的秒数)</th>\n",
       "      <th>本次购买时间(距1970-1-1的秒数)</th>\n",
       "      <th>经验值</th>\n",
       "      <th>订单数</th>\n",
       "    </tr>\n",
       "  </thead>\n",
       "  <tbody>\n",
       "    <tr>\n",
       "      <th>8</th>\n",
       "      <td>5560</td>\n",
       "      <td>39</td>\n",
       "      <td>1430413266</td>\n",
       "      <td>1481811865</td>\n",
       "      <td>27</td>\n",
       "      <td>0</td>\n",
       "    </tr>\n",
       "    <tr>\n",
       "      <th>230</th>\n",
       "      <td>25009</td>\n",
       "      <td>41</td>\n",
       "      <td>1448896799</td>\n",
       "      <td>1481880805</td>\n",
       "      <td>48</td>\n",
       "      <td>0</td>\n",
       "    </tr>\n",
       "    <tr>\n",
       "      <th>366</th>\n",
       "      <td>30693</td>\n",
       "      <td>46</td>\n",
       "      <td>1454416517</td>\n",
       "      <td>1494487927</td>\n",
       "      <td>148</td>\n",
       "      <td>0</td>\n",
       "    </tr>\n",
       "    <tr>\n",
       "      <th>546</th>\n",
       "      <td>43032</td>\n",
       "      <td>236</td>\n",
       "      <td>1460729071</td>\n",
       "      <td>1493391217</td>\n",
       "      <td>1119</td>\n",
       "      <td>0</td>\n",
       "    </tr>\n",
       "    <tr>\n",
       "      <th>657</th>\n",
       "      <td>50661</td>\n",
       "      <td>90</td>\n",
       "      <td>1462530683</td>\n",
       "      <td>1510145689</td>\n",
       "      <td>184</td>\n",
       "      <td>0</td>\n",
       "    </tr>\n",
       "    <tr>\n",
       "      <th>718</th>\n",
       "      <td>54287</td>\n",
       "      <td>13</td>\n",
       "      <td>1463730772</td>\n",
       "      <td>1482066960</td>\n",
       "      <td>28</td>\n",
       "      <td>0</td>\n",
       "    </tr>\n",
       "    <tr>\n",
       "      <th>738</th>\n",
       "      <td>64919</td>\n",
       "      <td>335</td>\n",
       "      <td>1464790747</td>\n",
       "      <td>1497573541</td>\n",
       "      <td>1522</td>\n",
       "      <td>0</td>\n",
       "    </tr>\n",
       "    <tr>\n",
       "      <th>750</th>\n",
       "      <td>67193</td>\n",
       "      <td>11</td>\n",
       "      <td>1465904747</td>\n",
       "      <td>1486274662</td>\n",
       "      <td>85</td>\n",
       "      <td>0</td>\n",
       "    </tr>\n",
       "    <tr>\n",
       "      <th>837</th>\n",
       "      <td>73953</td>\n",
       "      <td>34</td>\n",
       "      <td>1467270740</td>\n",
       "      <td>1491751840</td>\n",
       "      <td>52</td>\n",
       "      <td>0</td>\n",
       "    </tr>\n",
       "    <tr>\n",
       "      <th>935</th>\n",
       "      <td>108322</td>\n",
       "      <td>10</td>\n",
       "      <td>1470836655</td>\n",
       "      <td>1489377328</td>\n",
       "      <td>53</td>\n",
       "      <td>0</td>\n",
       "    </tr>\n",
       "    <tr>\n",
       "      <th>1038</th>\n",
       "      <td>111538</td>\n",
       "      <td>71</td>\n",
       "      <td>1474442997</td>\n",
       "      <td>1503272994</td>\n",
       "      <td>118</td>\n",
       "      <td>0</td>\n",
       "    </tr>\n",
       "    <tr>\n",
       "      <th>1175</th>\n",
       "      <td>120384</td>\n",
       "      <td>174</td>\n",
       "      <td>1479947210</td>\n",
       "      <td>1488332916</td>\n",
       "      <td>75</td>\n",
       "      <td>0</td>\n",
       "    </tr>\n",
       "    <tr>\n",
       "      <th>1179</th>\n",
       "      <td>120415</td>\n",
       "      <td>98</td>\n",
       "      <td>1479951012</td>\n",
       "      <td>1492010253</td>\n",
       "      <td>81</td>\n",
       "      <td>0</td>\n",
       "    </tr>\n",
       "    <tr>\n",
       "      <th>1180</th>\n",
       "      <td>120422</td>\n",
       "      <td>87</td>\n",
       "      <td>1479951408</td>\n",
       "      <td>1492010206</td>\n",
       "      <td>82</td>\n",
       "      <td>0</td>\n",
       "    </tr>\n",
       "    <tr>\n",
       "      <th>1182</th>\n",
       "      <td>120425</td>\n",
       "      <td>111</td>\n",
       "      <td>1479951650</td>\n",
       "      <td>1492010136</td>\n",
       "      <td>77</td>\n",
       "      <td>0</td>\n",
       "    </tr>\n",
       "    <tr>\n",
       "      <th>1193</th>\n",
       "      <td>120500</td>\n",
       "      <td>120</td>\n",
       "      <td>1479957888</td>\n",
       "      <td>1482616196</td>\n",
       "      <td>156</td>\n",
       "      <td>0</td>\n",
       "    </tr>\n",
       "    <tr>\n",
       "      <th>1206</th>\n",
       "      <td>120621</td>\n",
       "      <td>23</td>\n",
       "      <td>1479978957</td>\n",
       "      <td>1479998811</td>\n",
       "      <td>45</td>\n",
       "      <td>0</td>\n",
       "    </tr>\n",
       "    <tr>\n",
       "      <th>1226</th>\n",
       "      <td>120742</td>\n",
       "      <td>25</td>\n",
       "      <td>1479993806</td>\n",
       "      <td>1482826457</td>\n",
       "      <td>103</td>\n",
       "      <td>0</td>\n",
       "    </tr>\n",
       "    <tr>\n",
       "      <th>1305</th>\n",
       "      <td>121448</td>\n",
       "      <td>43</td>\n",
       "      <td>1480148840</td>\n",
       "      <td>1480306509</td>\n",
       "      <td>47</td>\n",
       "      <td>0</td>\n",
       "    </tr>\n",
       "    <tr>\n",
       "      <th>1332</th>\n",
       "      <td>121752</td>\n",
       "      <td>139</td>\n",
       "      <td>1480238614</td>\n",
       "      <td>1482026455</td>\n",
       "      <td>102</td>\n",
       "      <td>0</td>\n",
       "    </tr>\n",
       "    <tr>\n",
       "      <th>1398</th>\n",
       "      <td>122380</td>\n",
       "      <td>32</td>\n",
       "      <td>1480468645</td>\n",
       "      <td>1501895556</td>\n",
       "      <td>148</td>\n",
       "      <td>0</td>\n",
       "    </tr>\n",
       "    <tr>\n",
       "      <th>1420</th>\n",
       "      <td>122523</td>\n",
       "      <td>13</td>\n",
       "      <td>1480496111</td>\n",
       "      <td>1482759131</td>\n",
       "      <td>59</td>\n",
       "      <td>0</td>\n",
       "    </tr>\n",
       "    <tr>\n",
       "      <th>1438</th>\n",
       "      <td>122700</td>\n",
       "      <td>45</td>\n",
       "      <td>1480508248</td>\n",
       "      <td>1482151942</td>\n",
       "      <td>102</td>\n",
       "      <td>0</td>\n",
       "    </tr>\n",
       "    <tr>\n",
       "      <th>1482</th>\n",
       "      <td>123210</td>\n",
       "      <td>99</td>\n",
       "      <td>1480567852</td>\n",
       "      <td>1498400159</td>\n",
       "      <td>191</td>\n",
       "      <td>0</td>\n",
       "    </tr>\n",
       "    <tr>\n",
       "      <th>1489</th>\n",
       "      <td>123271</td>\n",
       "      <td>9</td>\n",
       "      <td>1480573204</td>\n",
       "      <td>1480807608</td>\n",
       "      <td>26</td>\n",
       "      <td>0</td>\n",
       "    </tr>\n",
       "    <tr>\n",
       "      <th>1507</th>\n",
       "      <td>123484</td>\n",
       "      <td>46</td>\n",
       "      <td>1480589842</td>\n",
       "      <td>1484619435</td>\n",
       "      <td>106</td>\n",
       "      <td>0</td>\n",
       "    </tr>\n",
       "    <tr>\n",
       "      <th>1512</th>\n",
       "      <td>123515</td>\n",
       "      <td>20</td>\n",
       "      <td>1480591713</td>\n",
       "      <td>1499418930</td>\n",
       "      <td>83</td>\n",
       "      <td>0</td>\n",
       "    </tr>\n",
       "    <tr>\n",
       "      <th>1592</th>\n",
       "      <td>124062</td>\n",
       "      <td>68</td>\n",
       "      <td>1480680795</td>\n",
       "      <td>1484579173</td>\n",
       "      <td>54</td>\n",
       "      <td>0</td>\n",
       "    </tr>\n",
       "    <tr>\n",
       "      <th>1593</th>\n",
       "      <td>124071</td>\n",
       "      <td>27</td>\n",
       "      <td>1480681492</td>\n",
       "      <td>1510669972</td>\n",
       "      <td>43</td>\n",
       "      <td>0</td>\n",
       "    </tr>\n",
       "    <tr>\n",
       "      <th>1672</th>\n",
       "      <td>124863</td>\n",
       "      <td>18</td>\n",
       "      <td>1480831072</td>\n",
       "      <td>1482223666</td>\n",
       "      <td>40</td>\n",
       "      <td>0</td>\n",
       "    </tr>\n",
       "    <tr>\n",
       "      <th>...</th>\n",
       "      <td>...</td>\n",
       "      <td>...</td>\n",
       "      <td>...</td>\n",
       "      <td>...</td>\n",
       "      <td>...</td>\n",
       "      <td>...</td>\n",
       "    </tr>\n",
       "    <tr>\n",
       "      <th>2499</th>\n",
       "      <td>134279</td>\n",
       "      <td>8</td>\n",
       "      <td>1482385814</td>\n",
       "      <td>1482386585</td>\n",
       "      <td>27</td>\n",
       "      <td>0</td>\n",
       "    </tr>\n",
       "    <tr>\n",
       "      <th>2500</th>\n",
       "      <td>134280</td>\n",
       "      <td>16</td>\n",
       "      <td>1482386025</td>\n",
       "      <td>1483621415</td>\n",
       "      <td>57</td>\n",
       "      <td>0</td>\n",
       "    </tr>\n",
       "    <tr>\n",
       "      <th>2501</th>\n",
       "      <td>134282</td>\n",
       "      <td>39</td>\n",
       "      <td>1482386280</td>\n",
       "      <td>1484354859</td>\n",
       "      <td>96</td>\n",
       "      <td>0</td>\n",
       "    </tr>\n",
       "    <tr>\n",
       "      <th>2503</th>\n",
       "      <td>134320</td>\n",
       "      <td>8</td>\n",
       "      <td>1482392517</td>\n",
       "      <td>1482392654</td>\n",
       "      <td>58</td>\n",
       "      <td>0</td>\n",
       "    </tr>\n",
       "    <tr>\n",
       "      <th>2504</th>\n",
       "      <td>134323</td>\n",
       "      <td>19</td>\n",
       "      <td>1482392973</td>\n",
       "      <td>1482405029</td>\n",
       "      <td>16</td>\n",
       "      <td>0</td>\n",
       "    </tr>\n",
       "    <tr>\n",
       "      <th>2508</th>\n",
       "      <td>134364</td>\n",
       "      <td>38</td>\n",
       "      <td>1482399075</td>\n",
       "      <td>1482571742</td>\n",
       "      <td>56</td>\n",
       "      <td>0</td>\n",
       "    </tr>\n",
       "    <tr>\n",
       "      <th>2509</th>\n",
       "      <td>134369</td>\n",
       "      <td>10</td>\n",
       "      <td>1482399725</td>\n",
       "      <td>1482400049</td>\n",
       "      <td>53</td>\n",
       "      <td>0</td>\n",
       "    </tr>\n",
       "    <tr>\n",
       "      <th>2510</th>\n",
       "      <td>134382</td>\n",
       "      <td>4</td>\n",
       "      <td>1482401734</td>\n",
       "      <td>1482401817</td>\n",
       "      <td>26</td>\n",
       "      <td>0</td>\n",
       "    </tr>\n",
       "    <tr>\n",
       "      <th>2511</th>\n",
       "      <td>134388</td>\n",
       "      <td>22</td>\n",
       "      <td>1482402569</td>\n",
       "      <td>1484653921</td>\n",
       "      <td>31</td>\n",
       "      <td>0</td>\n",
       "    </tr>\n",
       "    <tr>\n",
       "      <th>2514</th>\n",
       "      <td>134448</td>\n",
       "      <td>16</td>\n",
       "      <td>1482409383</td>\n",
       "      <td>1485086149</td>\n",
       "      <td>26</td>\n",
       "      <td>0</td>\n",
       "    </tr>\n",
       "    <tr>\n",
       "      <th>2515</th>\n",
       "      <td>134471</td>\n",
       "      <td>25</td>\n",
       "      <td>1482411269</td>\n",
       "      <td>1482882118</td>\n",
       "      <td>43</td>\n",
       "      <td>0</td>\n",
       "    </tr>\n",
       "    <tr>\n",
       "      <th>2516</th>\n",
       "      <td>134477</td>\n",
       "      <td>8</td>\n",
       "      <td>1482411824</td>\n",
       "      <td>1482412343</td>\n",
       "      <td>16</td>\n",
       "      <td>0</td>\n",
       "    </tr>\n",
       "    <tr>\n",
       "      <th>2517</th>\n",
       "      <td>134486</td>\n",
       "      <td>19</td>\n",
       "      <td>1482412920</td>\n",
       "      <td>1482413693</td>\n",
       "      <td>72</td>\n",
       "      <td>0</td>\n",
       "    </tr>\n",
       "    <tr>\n",
       "      <th>2518</th>\n",
       "      <td>134503</td>\n",
       "      <td>10</td>\n",
       "      <td>1482415403</td>\n",
       "      <td>1483456429</td>\n",
       "      <td>69</td>\n",
       "      <td>0</td>\n",
       "    </tr>\n",
       "    <tr>\n",
       "      <th>2520</th>\n",
       "      <td>134508</td>\n",
       "      <td>6</td>\n",
       "      <td>1482416007</td>\n",
       "      <td>1482416078</td>\n",
       "      <td>26</td>\n",
       "      <td>0</td>\n",
       "    </tr>\n",
       "    <tr>\n",
       "      <th>2521</th>\n",
       "      <td>134518</td>\n",
       "      <td>36</td>\n",
       "      <td>1482418173</td>\n",
       "      <td>1494473237</td>\n",
       "      <td>60</td>\n",
       "      <td>0</td>\n",
       "    </tr>\n",
       "    <tr>\n",
       "      <th>2522</th>\n",
       "      <td>134542</td>\n",
       "      <td>26</td>\n",
       "      <td>1482429375</td>\n",
       "      <td>1494044199</td>\n",
       "      <td>76</td>\n",
       "      <td>0</td>\n",
       "    </tr>\n",
       "    <tr>\n",
       "      <th>2524</th>\n",
       "      <td>134592</td>\n",
       "      <td>10</td>\n",
       "      <td>1482461608</td>\n",
       "      <td>1482568854</td>\n",
       "      <td>54</td>\n",
       "      <td>0</td>\n",
       "    </tr>\n",
       "    <tr>\n",
       "      <th>2525</th>\n",
       "      <td>134602</td>\n",
       "      <td>20</td>\n",
       "      <td>1482462846</td>\n",
       "      <td>1482654060</td>\n",
       "      <td>46</td>\n",
       "      <td>0</td>\n",
       "    </tr>\n",
       "    <tr>\n",
       "      <th>2527</th>\n",
       "      <td>134614</td>\n",
       "      <td>13</td>\n",
       "      <td>1482465614</td>\n",
       "      <td>1482467231</td>\n",
       "      <td>46</td>\n",
       "      <td>0</td>\n",
       "    </tr>\n",
       "    <tr>\n",
       "      <th>2528</th>\n",
       "      <td>134616</td>\n",
       "      <td>25</td>\n",
       "      <td>1482465850</td>\n",
       "      <td>1482625174</td>\n",
       "      <td>37</td>\n",
       "      <td>0</td>\n",
       "    </tr>\n",
       "    <tr>\n",
       "      <th>2529</th>\n",
       "      <td>134617</td>\n",
       "      <td>7</td>\n",
       "      <td>1482466020</td>\n",
       "      <td>1482666800</td>\n",
       "      <td>36</td>\n",
       "      <td>0</td>\n",
       "    </tr>\n",
       "    <tr>\n",
       "      <th>2531</th>\n",
       "      <td>134652</td>\n",
       "      <td>12</td>\n",
       "      <td>1482473235</td>\n",
       "      <td>1485090612</td>\n",
       "      <td>47</td>\n",
       "      <td>0</td>\n",
       "    </tr>\n",
       "    <tr>\n",
       "      <th>2533</th>\n",
       "      <td>134658</td>\n",
       "      <td>24</td>\n",
       "      <td>1482474200</td>\n",
       "      <td>1482639444</td>\n",
       "      <td>29</td>\n",
       "      <td>0</td>\n",
       "    </tr>\n",
       "    <tr>\n",
       "      <th>2534</th>\n",
       "      <td>134667</td>\n",
       "      <td>8</td>\n",
       "      <td>1482475877</td>\n",
       "      <td>1482476235</td>\n",
       "      <td>22</td>\n",
       "      <td>0</td>\n",
       "    </tr>\n",
       "    <tr>\n",
       "      <th>2535</th>\n",
       "      <td>134670</td>\n",
       "      <td>22</td>\n",
       "      <td>1482476845</td>\n",
       "      <td>1484914280</td>\n",
       "      <td>71</td>\n",
       "      <td>0</td>\n",
       "    </tr>\n",
       "    <tr>\n",
       "      <th>2542</th>\n",
       "      <td>134754</td>\n",
       "      <td>6</td>\n",
       "      <td>1482489554</td>\n",
       "      <td>1482489986</td>\n",
       "      <td>36</td>\n",
       "      <td>0</td>\n",
       "    </tr>\n",
       "    <tr>\n",
       "      <th>2547</th>\n",
       "      <td>134801</td>\n",
       "      <td>17</td>\n",
       "      <td>1482495294</td>\n",
       "      <td>1510898645</td>\n",
       "      <td>56</td>\n",
       "      <td>0</td>\n",
       "    </tr>\n",
       "    <tr>\n",
       "      <th>2559</th>\n",
       "      <td>134928</td>\n",
       "      <td>34</td>\n",
       "      <td>1482542142</td>\n",
       "      <td>1482569890</td>\n",
       "      <td>48</td>\n",
       "      <td>0</td>\n",
       "    </tr>\n",
       "    <tr>\n",
       "      <th>2563</th>\n",
       "      <td>134994</td>\n",
       "      <td>5</td>\n",
       "      <td>1482556528</td>\n",
       "      <td>1482556617</td>\n",
       "      <td>21</td>\n",
       "      <td>0</td>\n",
       "    </tr>\n",
       "  </tbody>\n",
       "</table>\n",
       "<p>270 rows × 6 columns</p>\n",
       "</div>"
      ],
      "text/plain": [
       "        客户ID  登陆次数  注册时间(距1970-1-1的秒数)  本次购买时间(距1970-1-1的秒数)   经验值  订单数\n",
       "8       5560    39          1430413266            1481811865    27    0\n",
       "230    25009    41          1448896799            1481880805    48    0\n",
       "366    30693    46          1454416517            1494487927   148    0\n",
       "546    43032   236          1460729071            1493391217  1119    0\n",
       "657    50661    90          1462530683            1510145689   184    0\n",
       "718    54287    13          1463730772            1482066960    28    0\n",
       "738    64919   335          1464790747            1497573541  1522    0\n",
       "750    67193    11          1465904747            1486274662    85    0\n",
       "837    73953    34          1467270740            1491751840    52    0\n",
       "935   108322    10          1470836655            1489377328    53    0\n",
       "1038  111538    71          1474442997            1503272994   118    0\n",
       "1175  120384   174          1479947210            1488332916    75    0\n",
       "1179  120415    98          1479951012            1492010253    81    0\n",
       "1180  120422    87          1479951408            1492010206    82    0\n",
       "1182  120425   111          1479951650            1492010136    77    0\n",
       "1193  120500   120          1479957888            1482616196   156    0\n",
       "1206  120621    23          1479978957            1479998811    45    0\n",
       "1226  120742    25          1479993806            1482826457   103    0\n",
       "1305  121448    43          1480148840            1480306509    47    0\n",
       "1332  121752   139          1480238614            1482026455   102    0\n",
       "1398  122380    32          1480468645            1501895556   148    0\n",
       "1420  122523    13          1480496111            1482759131    59    0\n",
       "1438  122700    45          1480508248            1482151942   102    0\n",
       "1482  123210    99          1480567852            1498400159   191    0\n",
       "1489  123271     9          1480573204            1480807608    26    0\n",
       "1507  123484    46          1480589842            1484619435   106    0\n",
       "1512  123515    20          1480591713            1499418930    83    0\n",
       "1592  124062    68          1480680795            1484579173    54    0\n",
       "1593  124071    27          1480681492            1510669972    43    0\n",
       "1672  124863    18          1480831072            1482223666    40    0\n",
       "...      ...   ...                 ...                   ...   ...  ...\n",
       "2499  134279     8          1482385814            1482386585    27    0\n",
       "2500  134280    16          1482386025            1483621415    57    0\n",
       "2501  134282    39          1482386280            1484354859    96    0\n",
       "2503  134320     8          1482392517            1482392654    58    0\n",
       "2504  134323    19          1482392973            1482405029    16    0\n",
       "2508  134364    38          1482399075            1482571742    56    0\n",
       "2509  134369    10          1482399725            1482400049    53    0\n",
       "2510  134382     4          1482401734            1482401817    26    0\n",
       "2511  134388    22          1482402569            1484653921    31    0\n",
       "2514  134448    16          1482409383            1485086149    26    0\n",
       "2515  134471    25          1482411269            1482882118    43    0\n",
       "2516  134477     8          1482411824            1482412343    16    0\n",
       "2517  134486    19          1482412920            1482413693    72    0\n",
       "2518  134503    10          1482415403            1483456429    69    0\n",
       "2520  134508     6          1482416007            1482416078    26    0\n",
       "2521  134518    36          1482418173            1494473237    60    0\n",
       "2522  134542    26          1482429375            1494044199    76    0\n",
       "2524  134592    10          1482461608            1482568854    54    0\n",
       "2525  134602    20          1482462846            1482654060    46    0\n",
       "2527  134614    13          1482465614            1482467231    46    0\n",
       "2528  134616    25          1482465850            1482625174    37    0\n",
       "2529  134617     7          1482466020            1482666800    36    0\n",
       "2531  134652    12          1482473235            1485090612    47    0\n",
       "2533  134658    24          1482474200            1482639444    29    0\n",
       "2534  134667     8          1482475877            1482476235    22    0\n",
       "2535  134670    22          1482476845            1484914280    71    0\n",
       "2542  134754     6          1482489554            1482489986    36    0\n",
       "2547  134801    17          1482495294            1510898645    56    0\n",
       "2559  134928    34          1482542142            1482569890    48    0\n",
       "2563  134994     5          1482556528            1482556617    21    0\n",
       "\n",
       "[270 rows x 6 columns]"
      ]
     },
     "execution_count": 32,
     "metadata": {},
     "output_type": "execute_result"
    }
   ],
   "source": [
    "guke[guke['订单数'] == 0]"
   ]
  },
  {
   "cell_type": "markdown",
   "metadata": {},
   "source": [
    "#### 订单数为0的基本无异常"
   ]
  },
  {
   "cell_type": "code",
   "execution_count": 261,
   "metadata": {},
   "outputs": [],
   "source": [
    "writer = pd.ExcelWriter('data_new/shop2.xlsx')\n",
    "\n",
    "dingdan.to_excel(\n",
    "    writer, # 写入数据\n",
    "    '订单信息', # 工作表标签\n",
    "    index=False # 不存入行索引\n",
    ")\n",
    "\n",
    "huowu.to_excel(\n",
    "    writer, # 写入数据\n",
    "    '货物信息', # 工作表标签\n",
    "    index=False # 不存入行索引\n",
    ")\n",
    "\n",
    "guke.to_excel(\n",
    "    writer, # 写入数据\n",
    "    '顾客信息', # 工作表标签\n",
    "    index=False # 不存入行索引\n",
    ")\n",
    "\n",
    "writer.save()"
   ]
  },
  {
   "cell_type": "markdown",
   "metadata": {},
   "source": [
    "   ------------------------------------------    "
   ]
  },
  {
   "cell_type": "markdown",
   "metadata": {},
   "source": [
    "### 分析订单\n",
    "#### 分析货物的优惠额度\n",
    "    指标：不同优惠额度的订单数量"
   ]
  },
  {
   "cell_type": "code",
   "execution_count": 262,
   "metadata": {},
   "outputs": [
    {
     "data": {
      "text/html": [
       "<div>\n",
       "<style scoped>\n",
       "    .dataframe tbody tr th:only-of-type {\n",
       "        vertical-align: middle;\n",
       "    }\n",
       "\n",
       "    .dataframe tbody tr th {\n",
       "        vertical-align: top;\n",
       "    }\n",
       "\n",
       "    .dataframe thead th {\n",
       "        text-align: right;\n",
       "    }\n",
       "</style>\n",
       "<table border=\"1\" class=\"dataframe\">\n",
       "  <thead>\n",
       "    <tr style=\"text-align: right;\">\n",
       "      <th></th>\n",
       "      <th>订单ID</th>\n",
       "      <th>货物ID</th>\n",
       "      <th>货物名称</th>\n",
       "      <th>优惠额度</th>\n",
       "    </tr>\n",
       "  </thead>\n",
       "  <tbody>\n",
       "    <tr>\n",
       "      <th>0</th>\n",
       "      <td>264971</td>\n",
       "      <td>103247</td>\n",
       "      <td>自然乐园水果礼盒</td>\n",
       "      <td>&gt;15</td>\n",
       "    </tr>\n",
       "    <tr>\n",
       "      <th>1</th>\n",
       "      <td>264994</td>\n",
       "      <td>103247</td>\n",
       "      <td>自然乐园水果礼盒</td>\n",
       "      <td>&gt;15</td>\n",
       "    </tr>\n",
       "    <tr>\n",
       "      <th>2</th>\n",
       "      <td>266829</td>\n",
       "      <td>103247</td>\n",
       "      <td>自然乐园水果礼盒</td>\n",
       "      <td>&gt;15</td>\n",
       "    </tr>\n",
       "    <tr>\n",
       "      <th>3</th>\n",
       "      <td>267232</td>\n",
       "      <td>103247</td>\n",
       "      <td>自然乐园水果礼盒</td>\n",
       "      <td>&gt;15</td>\n",
       "    </tr>\n",
       "    <tr>\n",
       "      <th>4</th>\n",
       "      <td>269051</td>\n",
       "      <td>103247</td>\n",
       "      <td>自然乐园水果礼盒</td>\n",
       "      <td>&gt;15</td>\n",
       "    </tr>\n",
       "  </tbody>\n",
       "</table>\n",
       "</div>"
      ],
      "text/plain": [
       "     订单ID    货物ID      货物名称 优惠额度\n",
       "0  264971  103247  自然乐园水果礼盒  >15\n",
       "1  264994  103247  自然乐园水果礼盒  >15\n",
       "2  266829  103247  自然乐园水果礼盒  >15\n",
       "3  267232  103247  自然乐园水果礼盒  >15\n",
       "4  269051  103247  自然乐园水果礼盒  >15"
      ]
     },
     "execution_count": 262,
     "metadata": {},
     "output_type": "execute_result"
    }
   ],
   "source": [
    "huowu.head()"
   ]
  },
  {
   "cell_type": "code",
   "execution_count": 263,
   "metadata": {},
   "outputs": [
    {
     "data": {
      "text/plain": [
       "0        1439\n",
       "2-5       596\n",
       "0-2       584\n",
       "5-10      310\n",
       ">15       163\n",
       "10-15      38\n",
       "Name: 优惠额度, dtype: int64"
      ]
     },
     "execution_count": 263,
     "metadata": {},
     "output_type": "execute_result"
    }
   ],
   "source": [
    "# _ = huowu.groupby('优惠额度').size().sort_values(ascending=False)\n",
    "_ = huowu['优惠额度'].value_counts()\n",
    "_"
   ]
  },
  {
   "cell_type": "markdown",
   "metadata": {},
   "source": [
    "#### 可视化"
   ]
  },
  {
   "cell_type": "code",
   "execution_count": 264,
   "metadata": {},
   "outputs": [
    {
     "data": {
      "image/png": "[encoded data removed]",
      "text/plain": [
       "<Figure size 1296x432 with 1 Axes>"
      ]
     },
     "metadata": {
      "needs_background": "light"
     },
     "output_type": "display_data"
    }
   ],
   "source": [
    "_.plot.bar(figsize=(18, 6), alpha=0.5)\n",
    "\n",
    "plt.title('不同优惠额度的订单数量', fontsize=22)\n",
    "plt.xlabel('优惠额度')\n",
    "plt.ylabel('订单数量')\n",
    "plt.grid(linewidth=0.3, alpha=0.5)"
   ]
  },
  {
   "cell_type": "code",
   "execution_count": 265,
   "metadata": {},
   "outputs": [
    {
     "data": {
      "text/html": [
       "<div>\n",
       "<style scoped>\n",
       "    .dataframe tbody tr th:only-of-type {\n",
       "        vertical-align: middle;\n",
       "    }\n",
       "\n",
       "    .dataframe tbody tr th {\n",
       "        vertical-align: top;\n",
       "    }\n",
       "\n",
       "    .dataframe thead th {\n",
       "        text-align: right;\n",
       "    }\n",
       "</style>\n",
       "<table border=\"1\" class=\"dataframe\">\n",
       "  <thead>\n",
       "    <tr style=\"text-align: right;\">\n",
       "      <th></th>\n",
       "      <th>订单ID</th>\n",
       "      <th>货物ID</th>\n",
       "      <th>货物名称</th>\n",
       "      <th>优惠额度</th>\n",
       "    </tr>\n",
       "  </thead>\n",
       "  <tbody>\n",
       "    <tr>\n",
       "      <th>3125</th>\n",
       "      <td>282903</td>\n",
       "      <td>103376</td>\n",
       "      <td>500元充值卡</td>\n",
       "      <td>0</td>\n",
       "    </tr>\n",
       "    <tr>\n",
       "      <th>3126</th>\n",
       "      <td>283994</td>\n",
       "      <td>103376</td>\n",
       "      <td>500元充值卡</td>\n",
       "      <td>0</td>\n",
       "    </tr>\n",
       "    <tr>\n",
       "      <th>3127</th>\n",
       "      <td>284171</td>\n",
       "      <td>103376</td>\n",
       "      <td>500元充值卡</td>\n",
       "      <td>0</td>\n",
       "    </tr>\n",
       "    <tr>\n",
       "      <th>3128</th>\n",
       "      <td>256095</td>\n",
       "      <td>103376</td>\n",
       "      <td>500元充值卡</td>\n",
       "      <td>0</td>\n",
       "    </tr>\n",
       "    <tr>\n",
       "      <th>3129</th>\n",
       "      <td>256499</td>\n",
       "      <td>103376</td>\n",
       "      <td>500元充值卡</td>\n",
       "      <td>0</td>\n",
       "    </tr>\n",
       "  </tbody>\n",
       "</table>\n",
       "</div>"
      ],
      "text/plain": [
       "        订单ID    货物ID     货物名称 优惠额度\n",
       "3125  282903  103376  500元充值卡    0\n",
       "3126  283994  103376  500元充值卡    0\n",
       "3127  284171  103376  500元充值卡    0\n",
       "3128  256095  103376  500元充值卡    0\n",
       "3129  256499  103376  500元充值卡    0"
      ]
     },
     "execution_count": 265,
     "metadata": {},
     "output_type": "execute_result"
    }
   ],
   "source": [
    "huowu.tail()"
   ]
  },
  {
   "cell_type": "markdown",
   "metadata": {},
   "source": [
    "#### 指标：原价商品前十排名"
   ]
  },
  {
   "cell_type": "code",
   "execution_count": 266,
   "metadata": {},
   "outputs": [
    {
     "data": {
      "text/plain": [
       "货物名称\n",
       "海南香蕉           60\n",
       "安慕希希腊酸奶（原味）    57\n",
       "冷冻鲜肉           51\n",
       "新希望酸奶初心        50\n",
       "静宁小苹果          48\n",
       "金堂脐橙           42\n",
       "冰糖橙            40\n",
       "土飞鸡            37\n",
       "福临门丝苗米         36\n",
       "好迪             35\n",
       "dtype: int64"
      ]
     },
     "execution_count": 266,
     "metadata": {},
     "output_type": "execute_result"
    }
   ],
   "source": [
    "huowu[huowu['优惠额度'] == '0']  # 原价商品\n",
    "huowu[huowu['优惠额度'] == '0'].groupby('货物名称').size().sort_values(ascending=False)  # 销量\n",
    "huowu[huowu['优惠额度'] == '0'].groupby('货物名称').size().sort_values(ascending=False)[:10]  # 前10"
   ]
  },
  {
   "cell_type": "code",
   "execution_count": 267,
   "metadata": {},
   "outputs": [
    {
     "data": {
      "text/html": [
       "<div>\n",
       "<style scoped>\n",
       "    .dataframe tbody tr th:only-of-type {\n",
       "        vertical-align: middle;\n",
       "    }\n",
       "\n",
       "    .dataframe tbody tr th {\n",
       "        vertical-align: top;\n",
       "    }\n",
       "\n",
       "    .dataframe thead th {\n",
       "        text-align: right;\n",
       "    }\n",
       "</style>\n",
       "<table border=\"1\" class=\"dataframe\">\n",
       "  <thead>\n",
       "    <tr style=\"text-align: right;\">\n",
       "      <th>货物名称</th>\n",
       "      <th>销量</th>\n",
       "    </tr>\n",
       "    <tr>\n",
       "      <th></th>\n",
       "      <th></th>\n",
       "    </tr>\n",
       "  </thead>\n",
       "  <tbody>\n",
       "    <tr>\n",
       "      <th>海南香蕉</th>\n",
       "      <td>60</td>\n",
       "    </tr>\n",
       "    <tr>\n",
       "      <th>安慕希希腊酸奶（原味）</th>\n",
       "      <td>57</td>\n",
       "    </tr>\n",
       "    <tr>\n",
       "      <th>冷冻鲜肉</th>\n",
       "      <td>51</td>\n",
       "    </tr>\n",
       "    <tr>\n",
       "      <th>新希望酸奶初心</th>\n",
       "      <td>50</td>\n",
       "    </tr>\n",
       "    <tr>\n",
       "      <th>静宁小苹果</th>\n",
       "      <td>48</td>\n",
       "    </tr>\n",
       "    <tr>\n",
       "      <th>金堂脐橙</th>\n",
       "      <td>42</td>\n",
       "    </tr>\n",
       "    <tr>\n",
       "      <th>冰糖橙</th>\n",
       "      <td>40</td>\n",
       "    </tr>\n",
       "    <tr>\n",
       "      <th>土飞鸡</th>\n",
       "      <td>37</td>\n",
       "    </tr>\n",
       "    <tr>\n",
       "      <th>福临门丝苗米</th>\n",
       "      <td>36</td>\n",
       "    </tr>\n",
       "    <tr>\n",
       "      <th>好迪</th>\n",
       "      <td>35</td>\n",
       "    </tr>\n",
       "  </tbody>\n",
       "</table>\n",
       "</div>"
      ],
      "text/plain": [
       "货物名称         销量\n",
       "               \n",
       "海南香蕉         60\n",
       "安慕希希腊酸奶（原味）  57\n",
       "冷冻鲜肉         51\n",
       "新希望酸奶初心      50\n",
       "静宁小苹果        48\n",
       "金堂脐橙         42\n",
       "冰糖橙          40\n",
       "土飞鸡          37\n",
       "福临门丝苗米       36\n",
       "好迪           35"
      ]
     },
     "execution_count": 267,
     "metadata": {},
     "output_type": "execute_result"
    }
   ],
   "source": [
    "# 调整样式\n",
    "_ = huowu[huowu['优惠额度'] == '0'].groupby('货物名称').size().sort_values(ascending=False)[:10] \\\n",
    ".reset_index().set_index('货物名称').rename(columns={0: '销量'})\n",
    "_.index.name = ''\n",
    "_.columns.name = '货物名称'\n",
    "_"
   ]
  },
  {
   "cell_type": "markdown",
   "metadata": {},
   "source": [
    "#### 可视化"
   ]
  },
  {
   "cell_type": "code",
   "execution_count": 268,
   "metadata": {},
   "outputs": [
    {
     "data": {
      "text/plain": [
       "Text(0, 0.5, '销量')"
      ]
     },
     "execution_count": 268,
     "metadata": {},
     "output_type": "execute_result"
    },
    {
     "data": {
      "image/png": "[encoded data removed]",
      "text/plain": [
       "<Figure size 432x288 with 1 Axes>"
      ]
     },
     "metadata": {
      "needs_background": "light"
     },
     "output_type": "display_data"
    }
   ],
   "source": [
    "_.plot.bar()\n",
    "plt.title('原价商品前十名的销量')\n",
    "plt.xlabel('商品名称')\n",
    "plt.ylabel('销量')"
   ]
  },
  {
   "cell_type": "markdown",
   "metadata": {},
   "source": [
    "指标：优惠商品销量前十名"
   ]
  },
  {
   "cell_type": "code",
   "execution_count": 269,
   "metadata": {},
   "outputs": [
    {
     "data": {
      "text/html": [
       "<div>\n",
       "<style scoped>\n",
       "    .dataframe tbody tr th:only-of-type {\n",
       "        vertical-align: middle;\n",
       "    }\n",
       "\n",
       "    .dataframe tbody tr th {\n",
       "        vertical-align: top;\n",
       "    }\n",
       "\n",
       "    .dataframe thead th {\n",
       "        text-align: right;\n",
       "    }\n",
       "</style>\n",
       "<table border=\"1\" class=\"dataframe\">\n",
       "  <thead>\n",
       "    <tr style=\"text-align: right;\">\n",
       "      <th>货物名称</th>\n",
       "      <th>销量</th>\n",
       "    </tr>\n",
       "    <tr>\n",
       "      <th></th>\n",
       "      <th></th>\n",
       "    </tr>\n",
       "  </thead>\n",
       "  <tbody>\n",
       "    <tr>\n",
       "      <th>蒲江耙耙柑</th>\n",
       "      <td>118</td>\n",
       "    </tr>\n",
       "    <tr>\n",
       "      <th>蒲江不知火丑柑【原产地直供】</th>\n",
       "      <td>61</td>\n",
       "    </tr>\n",
       "    <tr>\n",
       "      <th>藕</th>\n",
       "      <td>54</td>\n",
       "    </tr>\n",
       "    <tr>\n",
       "      <th>青椒</th>\n",
       "      <td>41</td>\n",
       "    </tr>\n",
       "    <tr>\n",
       "      <th>小葱</th>\n",
       "      <td>39</td>\n",
       "    </tr>\n",
       "    <tr>\n",
       "      <th>泰国龙眼【进口商品】800g</th>\n",
       "      <td>39</td>\n",
       "    </tr>\n",
       "    <tr>\n",
       "      <th>西红柿</th>\n",
       "      <td>38</td>\n",
       "    </tr>\n",
       "    <tr>\n",
       "      <th>云南青枣</th>\n",
       "      <td>37</td>\n",
       "    </tr>\n",
       "    <tr>\n",
       "      <th>小白菜</th>\n",
       "      <td>34</td>\n",
       "    </tr>\n",
       "    <tr>\n",
       "      <th>新土豆</th>\n",
       "      <td>34</td>\n",
       "    </tr>\n",
       "  </tbody>\n",
       "</table>\n",
       "</div>"
      ],
      "text/plain": [
       "货物名称             销量\n",
       "                   \n",
       "蒲江耙耙柑           118\n",
       "蒲江不知火丑柑【原产地直供】   61\n",
       "藕                54\n",
       "青椒               41\n",
       "小葱               39\n",
       "泰国龙眼【进口商品】800g   39\n",
       "西红柿              38\n",
       "云南青枣             37\n",
       "小白菜              34\n",
       "新土豆              34"
      ]
     },
     "execution_count": 269,
     "metadata": {},
     "output_type": "execute_result"
    }
   ],
   "source": [
    "_ = huowu[huowu['优惠额度'] != '0'].groupby('货物名称').size().sort_values(ascending=False)[:10] \\\n",
    ".reset_index().set_index('货物名称').rename(columns={0: '销量'})\n",
    "_.index.name = ''\n",
    "_.columns.name = '货物名称'\n",
    "_"
   ]
  },
  {
   "cell_type": "markdown",
   "metadata": {},
   "source": [
    "#### 可视化"
   ]
  },
  {
   "cell_type": "code",
   "execution_count": 270,
   "metadata": {},
   "outputs": [
    {
     "data": {
      "text/plain": [
       "Text(0, 0.5, '销量')"
      ]
     },
     "execution_count": 270,
     "metadata": {},
     "output_type": "execute_result"
    },
    {
     "data": {
      "image/png": "[encoded data removed]",
      "text/plain": [
       "<Figure size 432x288 with 1 Axes>"
      ]
     },
     "metadata": {
      "needs_background": "light"
     },
     "output_type": "display_data"
    }
   ],
   "source": [
    "_.plot.bar()\n",
    "plt.title('优惠商品前十名的销量')\n",
    "plt.xlabel('商品名称')\n",
    "plt.ylabel('销量')"
   ]
  },
  {
   "cell_type": "markdown",
   "metadata": {},
   "source": [
    "结论：对销量前十或者靠后的商品，可以根据销量情况增加上货频率或撤柜频率"
   ]
  },
  {
   "cell_type": "markdown",
   "metadata": {},
   "source": [
    "————————————————————————————————————————————————————"
   ]
  },
  {
   "cell_type": "markdown",
   "metadata": {},
   "source": [
    "\n",
    "\n",
    "\n",
    "### “无价值客户”指标量化定义\n",
    "\n",
    "什么是无价值客户？ 设定指标：在已完成订单中，优惠商品的订单比例大于等于75%时，定义客户为无价值客户\n",
    "\n",
    "#### 分离正常客户和无价值客户"
   ]
  },
  {
   "cell_type": "code",
   "execution_count": 271,
   "metadata": {},
   "outputs": [
    {
     "data": {
      "text/html": [
       "<div>\n",
       "<style scoped>\n",
       "    .dataframe tbody tr th:only-of-type {\n",
       "        vertical-align: middle;\n",
       "    }\n",
       "\n",
       "    .dataframe tbody tr th {\n",
       "        vertical-align: top;\n",
       "    }\n",
       "\n",
       "    .dataframe thead th {\n",
       "        text-align: right;\n",
       "    }\n",
       "</style>\n",
       "<table border=\"1\" class=\"dataframe\">\n",
       "  <thead>\n",
       "    <tr style=\"text-align: right;\">\n",
       "      <th></th>\n",
       "      <th>订单ID</th>\n",
       "      <th>客户ID</th>\n",
       "      <th>订单状态</th>\n",
       "      <th>优惠类型</th>\n",
       "    </tr>\n",
       "  </thead>\n",
       "  <tbody>\n",
       "    <tr>\n",
       "      <th>0</th>\n",
       "      <td>47739</td>\n",
       "      <td>5245</td>\n",
       "      <td>1</td>\n",
       "      <td>0</td>\n",
       "    </tr>\n",
       "    <tr>\n",
       "      <th>1</th>\n",
       "      <td>341269</td>\n",
       "      <td>5245</td>\n",
       "      <td>0</td>\n",
       "      <td>0</td>\n",
       "    </tr>\n",
       "    <tr>\n",
       "      <th>2</th>\n",
       "      <td>32690</td>\n",
       "      <td>5254</td>\n",
       "      <td>1</td>\n",
       "      <td>0</td>\n",
       "    </tr>\n",
       "    <tr>\n",
       "      <th>3</th>\n",
       "      <td>45641</td>\n",
       "      <td>5254</td>\n",
       "      <td>1</td>\n",
       "      <td>0</td>\n",
       "    </tr>\n",
       "    <tr>\n",
       "      <th>4</th>\n",
       "      <td>66116</td>\n",
       "      <td>5254</td>\n",
       "      <td>1</td>\n",
       "      <td>0</td>\n",
       "    </tr>\n",
       "  </tbody>\n",
       "</table>\n",
       "</div>"
      ],
      "text/plain": [
       "     订单ID  客户ID  订单状态  优惠类型\n",
       "0   47739  5245     1     0\n",
       "1  341269  5245     0     0\n",
       "2   32690  5254     1     0\n",
       "3   45641  5254     1     0\n",
       "4   66116  5254     1     0"
      ]
     },
     "execution_count": 271,
     "metadata": {},
     "output_type": "execute_result"
    }
   ],
   "source": [
    "dingdan.head()"
   ]
  },
  {
   "cell_type": "markdown",
   "metadata": {},
   "source": [
    "查看未完成和已完成订单的数量"
   ]
  },
  {
   "cell_type": "code",
   "execution_count": 272,
   "metadata": {},
   "outputs": [
    {
     "data": {
      "text/plain": [
       "订单状态\n",
       "0     5013\n",
       "1    24137\n",
       "dtype: int64"
      ]
     },
     "execution_count": 272,
     "metadata": {},
     "output_type": "execute_result"
    }
   ],
   "source": [
    "dingdan.groupby('订单状态').size()"
   ]
  },
  {
   "cell_type": "code",
   "execution_count": 273,
   "metadata": {},
   "outputs": [
    {
     "data": {
      "text/html": [
       "<div>\n",
       "<style scoped>\n",
       "    .dataframe tbody tr th:only-of-type {\n",
       "        vertical-align: middle;\n",
       "    }\n",
       "\n",
       "    .dataframe tbody tr th {\n",
       "        vertical-align: top;\n",
       "    }\n",
       "\n",
       "    .dataframe thead th {\n",
       "        text-align: right;\n",
       "    }\n",
       "</style>\n",
       "<table border=\"1\" class=\"dataframe\">\n",
       "  <thead>\n",
       "    <tr style=\"text-align: right;\">\n",
       "      <th></th>\n",
       "      <th>订单ID</th>\n",
       "      <th>客户ID</th>\n",
       "      <th>订单状态</th>\n",
       "      <th>优惠类型</th>\n",
       "    </tr>\n",
       "  </thead>\n",
       "  <tbody>\n",
       "    <tr>\n",
       "      <th>0</th>\n",
       "      <td>47739</td>\n",
       "      <td>5245</td>\n",
       "      <td>1</td>\n",
       "      <td>0</td>\n",
       "    </tr>\n",
       "    <tr>\n",
       "      <th>2</th>\n",
       "      <td>32690</td>\n",
       "      <td>5254</td>\n",
       "      <td>1</td>\n",
       "      <td>0</td>\n",
       "    </tr>\n",
       "    <tr>\n",
       "      <th>3</th>\n",
       "      <td>45641</td>\n",
       "      <td>5254</td>\n",
       "      <td>1</td>\n",
       "      <td>0</td>\n",
       "    </tr>\n",
       "    <tr>\n",
       "      <th>4</th>\n",
       "      <td>66116</td>\n",
       "      <td>5254</td>\n",
       "      <td>1</td>\n",
       "      <td>0</td>\n",
       "    </tr>\n",
       "    <tr>\n",
       "      <th>5</th>\n",
       "      <td>79014</td>\n",
       "      <td>5254</td>\n",
       "      <td>1</td>\n",
       "      <td>0</td>\n",
       "    </tr>\n",
       "  </tbody>\n",
       "</table>\n",
       "</div>"
      ],
      "text/plain": [
       "    订单ID  客户ID  订单状态  优惠类型\n",
       "0  47739  5245     1     0\n",
       "2  32690  5254     1     0\n",
       "3  45641  5254     1     0\n",
       "4  66116  5254     1     0\n",
       "5  79014  5254     1     0"
      ]
     },
     "execution_count": 273,
     "metadata": {},
     "output_type": "execute_result"
    }
   ],
   "source": [
    "dingdan2 = dingdan[dingdan['订单状态'] == 1]\n",
    "dingdan2.head()"
   ]
  },
  {
   "cell_type": "code",
   "execution_count": 274,
   "metadata": {},
   "outputs": [
    {
     "data": {
      "text/plain": [
       "(24137, 4)"
      ]
     },
     "execution_count": 274,
     "metadata": {},
     "output_type": "execute_result"
    }
   ],
   "source": [
    "dingdan2.shape"
   ]
  },
  {
   "cell_type": "markdown",
   "metadata": {},
   "source": [
    "#### 客户ID对应的正常和优惠订单的数量\n",
    "\n"
   ]
  },
  {
   "cell_type": "code",
   "execution_count": 275,
   "metadata": {},
   "outputs": [
    {
     "data": {
      "text/html": [
       "<div>\n",
       "<style scoped>\n",
       "    .dataframe tbody tr th:only-of-type {\n",
       "        vertical-align: middle;\n",
       "    }\n",
       "\n",
       "    .dataframe tbody tr th {\n",
       "        vertical-align: top;\n",
       "    }\n",
       "\n",
       "    .dataframe thead th {\n",
       "        text-align: right;\n",
       "    }\n",
       "</style>\n",
       "<table border=\"1\" class=\"dataframe\">\n",
       "  <thead>\n",
       "    <tr style=\"text-align: right;\">\n",
       "      <th>优惠类型</th>\n",
       "      <th>0</th>\n",
       "      <th>1</th>\n",
       "    </tr>\n",
       "    <tr>\n",
       "      <th>客户ID</th>\n",
       "      <th></th>\n",
       "      <th></th>\n",
       "    </tr>\n",
       "  </thead>\n",
       "  <tbody>\n",
       "    <tr>\n",
       "      <th>5245</th>\n",
       "      <td>1</td>\n",
       "      <td>0</td>\n",
       "    </tr>\n",
       "    <tr>\n",
       "      <th>5254</th>\n",
       "      <td>8</td>\n",
       "      <td>1</td>\n",
       "    </tr>\n",
       "    <tr>\n",
       "      <th>5286</th>\n",
       "      <td>1</td>\n",
       "      <td>1</td>\n",
       "    </tr>\n",
       "    <tr>\n",
       "      <th>5292</th>\n",
       "      <td>4</td>\n",
       "      <td>2</td>\n",
       "    </tr>\n",
       "    <tr>\n",
       "      <th>5474</th>\n",
       "      <td>1</td>\n",
       "      <td>1</td>\n",
       "    </tr>\n",
       "  </tbody>\n",
       "</table>\n",
       "</div>"
      ],
      "text/plain": [
       "优惠类型  0  1\n",
       "客户ID      \n",
       "5245  1  0\n",
       "5254  8  1\n",
       "5286  1  1\n",
       "5292  4  2\n",
       "5474  1  1"
      ]
     },
     "execution_count": 275,
     "metadata": {},
     "output_type": "execute_result"
    }
   ],
   "source": [
    "dingdan2\n",
    "# pd.crosstab(dingdan2['客户ID'], dingdan2['优惠类型']) \n",
    "\n",
    "_ = dingdan2.groupby(['客户ID','优惠类型']).size().unstack().fillna(0).astype(np.int)  \n",
    "_.head()\n"
   ]
  },
  {
   "cell_type": "markdown",
   "metadata": {},
   "source": [
    "#### 计算优惠订单大于等于75%的数据\n",
    "\n",
    "    0/(8+1)  # 正常订单占所有订单的比例\n",
    "    1/(8+1)  # 优惠订单占所有订单的比例\n",
    "    \n",
    "最终目的：获取无价值客户的客户ID"
   ]
  },
  {
   "cell_type": "code",
   "execution_count": 276,
   "metadata": {},
   "outputs": [
    {
     "data": {
      "text/plain": [
       "array([  5560,   5580,   5723, ..., 169815, 169832, 169976], dtype=int64)"
      ]
     },
     "execution_count": 276,
     "metadata": {},
     "output_type": "execute_result"
    }
   ],
   "source": [
    "_.sum(axis=1)  # 每个客户的总订单数\n",
    "\n",
    "_[1] / _.sum(axis=1)  # 优惠订单占所有订单的比例\n",
    "\n",
    "s = _[(_[1] / _.sum(axis=1)) >= 0.75].index.values  # 所有无价值客户的客户ID\n",
    "s"
   ]
  },
  {
   "cell_type": "code",
   "execution_count": 277,
   "metadata": {},
   "outputs": [
    {
     "data": {
      "text/plain": [
       "(1669,)"
      ]
     },
     "execution_count": 277,
     "metadata": {},
     "output_type": "execute_result"
    }
   ],
   "source": [
    "s.shape"
   ]
  },
  {
   "cell_type": "code",
   "execution_count": 278,
   "metadata": {},
   "outputs": [
    {
     "data": {
      "text/html": [
       "<div>\n",
       "<style scoped>\n",
       "    .dataframe tbody tr th:only-of-type {\n",
       "        vertical-align: middle;\n",
       "    }\n",
       "\n",
       "    .dataframe tbody tr th {\n",
       "        vertical-align: top;\n",
       "    }\n",
       "\n",
       "    .dataframe thead th {\n",
       "        text-align: right;\n",
       "    }\n",
       "</style>\n",
       "<table border=\"1\" class=\"dataframe\">\n",
       "  <thead>\n",
       "    <tr style=\"text-align: right;\">\n",
       "      <th>优惠类型</th>\n",
       "      <th>0</th>\n",
       "      <th>1</th>\n",
       "      <th>客户类别</th>\n",
       "    </tr>\n",
       "    <tr>\n",
       "      <th>客户ID</th>\n",
       "      <th></th>\n",
       "      <th></th>\n",
       "      <th></th>\n",
       "    </tr>\n",
       "  </thead>\n",
       "  <tbody>\n",
       "    <tr>\n",
       "      <th>5245</th>\n",
       "      <td>1</td>\n",
       "      <td>0</td>\n",
       "      <td>1</td>\n",
       "    </tr>\n",
       "    <tr>\n",
       "      <th>5254</th>\n",
       "      <td>8</td>\n",
       "      <td>1</td>\n",
       "      <td>1</td>\n",
       "    </tr>\n",
       "    <tr>\n",
       "      <th>5286</th>\n",
       "      <td>1</td>\n",
       "      <td>1</td>\n",
       "      <td>1</td>\n",
       "    </tr>\n",
       "    <tr>\n",
       "      <th>5292</th>\n",
       "      <td>4</td>\n",
       "      <td>2</td>\n",
       "      <td>1</td>\n",
       "    </tr>\n",
       "    <tr>\n",
       "      <th>5474</th>\n",
       "      <td>1</td>\n",
       "      <td>1</td>\n",
       "      <td>1</td>\n",
       "    </tr>\n",
       "  </tbody>\n",
       "</table>\n",
       "</div>"
      ],
      "text/plain": [
       "优惠类型  0  1  客户类别\n",
       "客户ID            \n",
       "5245  1  0     1\n",
       "5254  8  1     1\n",
       "5286  1  1     1\n",
       "5292  4  2     1\n",
       "5474  1  1     1"
      ]
     },
     "execution_count": 278,
     "metadata": {},
     "output_type": "execute_result"
    }
   ],
   "source": [
    " # 先将所有用户改为有价值用户\n",
    "_['客户类别'] = 1 \n",
    "_.head()"
   ]
  },
  {
   "cell_type": "code",
   "execution_count": 279,
   "metadata": {},
   "outputs": [
    {
     "data": {
      "text/html": [
       "<div>\n",
       "<style scoped>\n",
       "    .dataframe tbody tr th:only-of-type {\n",
       "        vertical-align: middle;\n",
       "    }\n",
       "\n",
       "    .dataframe tbody tr th {\n",
       "        vertical-align: top;\n",
       "    }\n",
       "\n",
       "    .dataframe thead th {\n",
       "        text-align: right;\n",
       "    }\n",
       "</style>\n",
       "<table border=\"1\" class=\"dataframe\">\n",
       "  <thead>\n",
       "    <tr style=\"text-align: right;\">\n",
       "      <th>优惠类型</th>\n",
       "      <th>0</th>\n",
       "      <th>1</th>\n",
       "      <th>客户类别</th>\n",
       "    </tr>\n",
       "    <tr>\n",
       "      <th>客户ID</th>\n",
       "      <th></th>\n",
       "      <th></th>\n",
       "      <th></th>\n",
       "    </tr>\n",
       "  </thead>\n",
       "  <tbody>\n",
       "    <tr>\n",
       "      <th>5245</th>\n",
       "      <td>1</td>\n",
       "      <td>0</td>\n",
       "      <td>1</td>\n",
       "    </tr>\n",
       "    <tr>\n",
       "      <th>5254</th>\n",
       "      <td>8</td>\n",
       "      <td>1</td>\n",
       "      <td>1</td>\n",
       "    </tr>\n",
       "    <tr>\n",
       "      <th>5286</th>\n",
       "      <td>1</td>\n",
       "      <td>1</td>\n",
       "      <td>1</td>\n",
       "    </tr>\n",
       "    <tr>\n",
       "      <th>5292</th>\n",
       "      <td>4</td>\n",
       "      <td>2</td>\n",
       "      <td>1</td>\n",
       "    </tr>\n",
       "    <tr>\n",
       "      <th>5474</th>\n",
       "      <td>1</td>\n",
       "      <td>1</td>\n",
       "      <td>1</td>\n",
       "    </tr>\n",
       "    <tr>\n",
       "      <th>5544</th>\n",
       "      <td>75</td>\n",
       "      <td>16</td>\n",
       "      <td>1</td>\n",
       "    </tr>\n",
       "    <tr>\n",
       "      <th>5547</th>\n",
       "      <td>5</td>\n",
       "      <td>4</td>\n",
       "      <td>1</td>\n",
       "    </tr>\n",
       "    <tr>\n",
       "      <th>5552</th>\n",
       "      <td>55</td>\n",
       "      <td>96</td>\n",
       "      <td>1</td>\n",
       "    </tr>\n",
       "    <tr>\n",
       "      <th>5560</th>\n",
       "      <td>0</td>\n",
       "      <td>1</td>\n",
       "      <td>0</td>\n",
       "    </tr>\n",
       "    <tr>\n",
       "      <th>5580</th>\n",
       "      <td>0</td>\n",
       "      <td>2</td>\n",
       "      <td>0</td>\n",
       "    </tr>\n",
       "  </tbody>\n",
       "</table>\n",
       "</div>"
      ],
      "text/plain": [
       "优惠类型   0   1  客户类别\n",
       "客户ID              \n",
       "5245   1   0     1\n",
       "5254   8   1     1\n",
       "5286   1   1     1\n",
       "5292   4   2     1\n",
       "5474   1   1     1\n",
       "5544  75  16     1\n",
       "5547   5   4     1\n",
       "5552  55  96     1\n",
       "5560   0   1     0\n",
       "5580   0   2     0"
      ]
     },
     "execution_count": 279,
     "metadata": {},
     "output_type": "execute_result"
    }
   ],
   "source": [
    "# 再将无价值客户改为0\n",
    "_.loc[s, '客户类别'] = 0\n",
    "_.head(10)"
   ]
  },
  {
   "cell_type": "markdown",
   "metadata": {},
   "source": [
    "#### 把 _ 的客户类别列插入顾客信息单元表中\n",
    "\n"
   ]
  },
  {
   "cell_type": "code",
   "execution_count": 280,
   "metadata": {},
   "outputs": [
    {
     "data": {
      "text/plain": [
       "客户ID\n",
       "5245    1\n",
       "5254    1\n",
       "5286    1\n",
       "5292    1\n",
       "5474    1\n",
       "5544    1\n",
       "5547    1\n",
       "5552    1\n",
       "5560    0\n",
       "5580    0\n",
       "Name: 客户类别, dtype: int64"
      ]
     },
     "execution_count": 280,
     "metadata": {},
     "output_type": "execute_result"
    }
   ],
   "source": [
    "_['客户类别'].head(10)"
   ]
  },
  {
   "cell_type": "code",
   "execution_count": 281,
   "metadata": {},
   "outputs": [
    {
     "data": {
      "text/html": [
       "<div>\n",
       "<style scoped>\n",
       "    .dataframe tbody tr th:only-of-type {\n",
       "        vertical-align: middle;\n",
       "    }\n",
       "\n",
       "    .dataframe tbody tr th {\n",
       "        vertical-align: top;\n",
       "    }\n",
       "\n",
       "    .dataframe thead th {\n",
       "        text-align: right;\n",
       "    }\n",
       "</style>\n",
       "<table border=\"1\" class=\"dataframe\">\n",
       "  <thead>\n",
       "    <tr style=\"text-align: right;\">\n",
       "      <th></th>\n",
       "      <th>客户ID</th>\n",
       "      <th>登陆次数</th>\n",
       "      <th>注册时间(距1970-1-1的秒数)</th>\n",
       "      <th>本次购买时间(距1970-1-1的秒数)</th>\n",
       "      <th>经验值</th>\n",
       "      <th>订单数</th>\n",
       "    </tr>\n",
       "  </thead>\n",
       "  <tbody>\n",
       "    <tr>\n",
       "      <th>0</th>\n",
       "      <td>5245</td>\n",
       "      <td>55</td>\n",
       "      <td>1430413266</td>\n",
       "      <td>1495339734</td>\n",
       "      <td>206</td>\n",
       "      <td>1</td>\n",
       "    </tr>\n",
       "    <tr>\n",
       "      <th>1</th>\n",
       "      <td>5254</td>\n",
       "      <td>69</td>\n",
       "      <td>1430413266</td>\n",
       "      <td>1499041945</td>\n",
       "      <td>428</td>\n",
       "      <td>13</td>\n",
       "    </tr>\n",
       "    <tr>\n",
       "      <th>2</th>\n",
       "      <td>5286</td>\n",
       "      <td>57</td>\n",
       "      <td>1430413266</td>\n",
       "      <td>1509936376</td>\n",
       "      <td>280</td>\n",
       "      <td>1</td>\n",
       "    </tr>\n",
       "    <tr>\n",
       "      <th>3</th>\n",
       "      <td>5292</td>\n",
       "      <td>184</td>\n",
       "      <td>1430413266</td>\n",
       "      <td>1510135868</td>\n",
       "      <td>643</td>\n",
       "      <td>5</td>\n",
       "    </tr>\n",
       "    <tr>\n",
       "      <th>4</th>\n",
       "      <td>5474</td>\n",
       "      <td>71</td>\n",
       "      <td>1430413266</td>\n",
       "      <td>1481185064</td>\n",
       "      <td>61</td>\n",
       "      <td>2</td>\n",
       "    </tr>\n",
       "  </tbody>\n",
       "</table>\n",
       "</div>"
      ],
      "text/plain": [
       "   客户ID  登陆次数  注册时间(距1970-1-1的秒数)  本次购买时间(距1970-1-1的秒数)  经验值  订单数\n",
       "0  5245    55          1430413266            1495339734  206    1\n",
       "1  5254    69          1430413266            1499041945  428   13\n",
       "2  5286    57          1430413266            1509936376  280    1\n",
       "3  5292   184          1430413266            1510135868  643    5\n",
       "4  5474    71          1430413266            1481185064   61    2"
      ]
     },
     "execution_count": 281,
     "metadata": {},
     "output_type": "execute_result"
    }
   ],
   "source": [
    "guke.head()"
   ]
  },
  {
   "cell_type": "code",
   "execution_count": 282,
   "metadata": {},
   "outputs": [
    {
     "data": {
      "text/html": [
       "<div>\n",
       "<style scoped>\n",
       "    .dataframe tbody tr th:only-of-type {\n",
       "        vertical-align: middle;\n",
       "    }\n",
       "\n",
       "    .dataframe tbody tr th {\n",
       "        vertical-align: top;\n",
       "    }\n",
       "\n",
       "    .dataframe thead th {\n",
       "        text-align: right;\n",
       "    }\n",
       "</style>\n",
       "<table border=\"1\" class=\"dataframe\">\n",
       "  <thead>\n",
       "    <tr style=\"text-align: right;\">\n",
       "      <th></th>\n",
       "      <th>登陆次数</th>\n",
       "      <th>注册时间(距1970-1-1的秒数)</th>\n",
       "      <th>本次购买时间(距1970-1-1的秒数)</th>\n",
       "      <th>经验值</th>\n",
       "      <th>订单数</th>\n",
       "    </tr>\n",
       "    <tr>\n",
       "      <th>客户ID</th>\n",
       "      <th></th>\n",
       "      <th></th>\n",
       "      <th></th>\n",
       "      <th></th>\n",
       "      <th></th>\n",
       "    </tr>\n",
       "  </thead>\n",
       "  <tbody>\n",
       "    <tr>\n",
       "      <th>5245</th>\n",
       "      <td>55</td>\n",
       "      <td>1430413266</td>\n",
       "      <td>1495339734</td>\n",
       "      <td>206</td>\n",
       "      <td>1</td>\n",
       "    </tr>\n",
       "    <tr>\n",
       "      <th>5254</th>\n",
       "      <td>69</td>\n",
       "      <td>1430413266</td>\n",
       "      <td>1499041945</td>\n",
       "      <td>428</td>\n",
       "      <td>13</td>\n",
       "    </tr>\n",
       "    <tr>\n",
       "      <th>5286</th>\n",
       "      <td>57</td>\n",
       "      <td>1430413266</td>\n",
       "      <td>1509936376</td>\n",
       "      <td>280</td>\n",
       "      <td>1</td>\n",
       "    </tr>\n",
       "    <tr>\n",
       "      <th>5292</th>\n",
       "      <td>184</td>\n",
       "      <td>1430413266</td>\n",
       "      <td>1510135868</td>\n",
       "      <td>643</td>\n",
       "      <td>5</td>\n",
       "    </tr>\n",
       "    <tr>\n",
       "      <th>5474</th>\n",
       "      <td>71</td>\n",
       "      <td>1430413266</td>\n",
       "      <td>1481185064</td>\n",
       "      <td>61</td>\n",
       "      <td>2</td>\n",
       "    </tr>\n",
       "  </tbody>\n",
       "</table>\n",
       "</div>"
      ],
      "text/plain": [
       "      登陆次数  注册时间(距1970-1-1的秒数)  本次购买时间(距1970-1-1的秒数)  经验值  订单数\n",
       "客户ID                                                          \n",
       "5245    55          1430413266            1495339734  206    1\n",
       "5254    69          1430413266            1499041945  428   13\n",
       "5286    57          1430413266            1509936376  280    1\n",
       "5292   184          1430413266            1510135868  643    5\n",
       "5474    71          1430413266            1481185064   61    2"
      ]
     },
     "execution_count": 282,
     "metadata": {},
     "output_type": "execute_result"
    }
   ],
   "source": [
    "guke2 = guke.set_index('客户ID')\n",
    "guke2.head()"
   ]
  },
  {
   "cell_type": "code",
   "execution_count": 283,
   "metadata": {},
   "outputs": [
    {
     "data": {
      "text/html": [
       "<div>\n",
       "<style scoped>\n",
       "    .dataframe tbody tr th:only-of-type {\n",
       "        vertical-align: middle;\n",
       "    }\n",
       "\n",
       "    .dataframe tbody tr th {\n",
       "        vertical-align: top;\n",
       "    }\n",
       "\n",
       "    .dataframe thead th {\n",
       "        text-align: right;\n",
       "    }\n",
       "</style>\n",
       "<table border=\"1\" class=\"dataframe\">\n",
       "  <thead>\n",
       "    <tr style=\"text-align: right;\">\n",
       "      <th></th>\n",
       "      <th>登陆次数</th>\n",
       "      <th>注册时间(距1970-1-1的秒数)</th>\n",
       "      <th>本次购买时间(距1970-1-1的秒数)</th>\n",
       "      <th>经验值</th>\n",
       "      <th>订单数</th>\n",
       "      <th>客户类别</th>\n",
       "    </tr>\n",
       "    <tr>\n",
       "      <th>客户ID</th>\n",
       "      <th></th>\n",
       "      <th></th>\n",
       "      <th></th>\n",
       "      <th></th>\n",
       "      <th></th>\n",
       "      <th></th>\n",
       "    </tr>\n",
       "  </thead>\n",
       "  <tbody>\n",
       "    <tr>\n",
       "      <th>5245</th>\n",
       "      <td>55</td>\n",
       "      <td>1430413266</td>\n",
       "      <td>1495339734</td>\n",
       "      <td>206</td>\n",
       "      <td>1</td>\n",
       "      <td>1</td>\n",
       "    </tr>\n",
       "    <tr>\n",
       "      <th>5254</th>\n",
       "      <td>69</td>\n",
       "      <td>1430413266</td>\n",
       "      <td>1499041945</td>\n",
       "      <td>428</td>\n",
       "      <td>13</td>\n",
       "      <td>1</td>\n",
       "    </tr>\n",
       "    <tr>\n",
       "      <th>5286</th>\n",
       "      <td>57</td>\n",
       "      <td>1430413266</td>\n",
       "      <td>1509936376</td>\n",
       "      <td>280</td>\n",
       "      <td>1</td>\n",
       "      <td>1</td>\n",
       "    </tr>\n",
       "    <tr>\n",
       "      <th>5292</th>\n",
       "      <td>184</td>\n",
       "      <td>1430413266</td>\n",
       "      <td>1510135868</td>\n",
       "      <td>643</td>\n",
       "      <td>5</td>\n",
       "      <td>1</td>\n",
       "    </tr>\n",
       "    <tr>\n",
       "      <th>5474</th>\n",
       "      <td>71</td>\n",
       "      <td>1430413266</td>\n",
       "      <td>1481185064</td>\n",
       "      <td>61</td>\n",
       "      <td>2</td>\n",
       "      <td>1</td>\n",
       "    </tr>\n",
       "    <tr>\n",
       "      <th>5544</th>\n",
       "      <td>520</td>\n",
       "      <td>1430413266</td>\n",
       "      <td>1511065463</td>\n",
       "      <td>5033</td>\n",
       "      <td>103</td>\n",
       "      <td>1</td>\n",
       "    </tr>\n",
       "    <tr>\n",
       "      <th>5547</th>\n",
       "      <td>30</td>\n",
       "      <td>1430413266</td>\n",
       "      <td>1510577047</td>\n",
       "      <td>477</td>\n",
       "      <td>8</td>\n",
       "      <td>1</td>\n",
       "    </tr>\n",
       "    <tr>\n",
       "      <th>5552</th>\n",
       "      <td>2699</td>\n",
       "      <td>1430413266</td>\n",
       "      <td>1511245956</td>\n",
       "      <td>12673</td>\n",
       "      <td>164</td>\n",
       "      <td>1</td>\n",
       "    </tr>\n",
       "    <tr>\n",
       "      <th>5560</th>\n",
       "      <td>39</td>\n",
       "      <td>1430413266</td>\n",
       "      <td>1481811865</td>\n",
       "      <td>27</td>\n",
       "      <td>0</td>\n",
       "      <td>0</td>\n",
       "    </tr>\n",
       "    <tr>\n",
       "      <th>5580</th>\n",
       "      <td>137</td>\n",
       "      <td>1430413266</td>\n",
       "      <td>1506301413</td>\n",
       "      <td>236</td>\n",
       "      <td>2</td>\n",
       "      <td>0</td>\n",
       "    </tr>\n",
       "  </tbody>\n",
       "</table>\n",
       "</div>"
      ],
      "text/plain": [
       "      登陆次数  注册时间(距1970-1-1的秒数)  本次购买时间(距1970-1-1的秒数)    经验值  订单数  客户类别\n",
       "客户ID                                                                  \n",
       "5245    55          1430413266            1495339734    206    1     1\n",
       "5254    69          1430413266            1499041945    428   13     1\n",
       "5286    57          1430413266            1509936376    280    1     1\n",
       "5292   184          1430413266            1510135868    643    5     1\n",
       "5474    71          1430413266            1481185064     61    2     1\n",
       "5544   520          1430413266            1511065463   5033  103     1\n",
       "5547    30          1430413266            1510577047    477    8     1\n",
       "5552  2699          1430413266            1511245956  12673  164     1\n",
       "5560    39          1430413266            1481811865     27    0     0\n",
       "5580   137          1430413266            1506301413    236    2     0"
      ]
     },
     "execution_count": 283,
     "metadata": {},
     "output_type": "execute_result"
    }
   ],
   "source": [
    "guke2['客户类别'] = _['客户类别']\n",
    "guke2.head(10)"
   ]
  },
  {
   "cell_type": "code",
   "execution_count": 284,
   "metadata": {},
   "outputs": [
    {
     "data": {
      "text/plain": [
       "((3000, 3), (3000, 6))"
      ]
     },
     "execution_count": 284,
     "metadata": {},
     "output_type": "execute_result"
    }
   ],
   "source": [
    "_.shape, guke2.shape"
   ]
  },
  {
   "cell_type": "code",
   "execution_count": 285,
   "metadata": {},
   "outputs": [
    {
     "data": {
      "text/plain": [
       "客户类别\n",
       "0    1669\n",
       "1    1331\n",
       "dtype: int64"
      ]
     },
     "execution_count": 285,
     "metadata": {},
     "output_type": "execute_result"
    }
   ],
   "source": [
    "_.groupby('客户类别').size()"
   ]
  },
  {
   "cell_type": "code",
   "execution_count": 286,
   "metadata": {},
   "outputs": [
    {
     "name": "stdout",
     "output_type": "stream",
     "text": [
      "<class 'pandas.core.frame.DataFrame'>\n",
      "Int64Index: 3000 entries, 5245 to 169976\n",
      "Data columns (total 6 columns):\n",
      "登陆次数                    3000 non-null int64\n",
      "注册时间(距1970-1-1的秒数)      3000 non-null int64\n",
      "本次购买时间(距1970-1-1的秒数)    3000 non-null int64\n",
      "经验值                     3000 non-null int64\n",
      "订单数                     3000 non-null int64\n",
      "客户类别                    3000 non-null int64\n",
      "dtypes: int64(6)\n",
      "memory usage: 164.1 KB\n"
     ]
    }
   ],
   "source": [
    "guke2.info()"
   ]
  },
  {
   "cell_type": "markdown",
   "metadata": {},
   "source": [
    "### 正常客户和无价值客户分离完成\n",
    "\n",
    "\n",
    "\n",
    "---"
   ]
  },
  {
   "cell_type": "markdown",
   "metadata": {},
   "source": [
    "## 客户特征分析\n",
    "\n",
    "分析正常客户和无价值客户的特征和行为差异\n",
    "\n",
    "    举例：正常客户的平均登陆次数多少，无价值客户的平均登陆次数多少"
   ]
  },
  {
   "cell_type": "code",
   "execution_count": 287,
   "metadata": {},
   "outputs": [
    {
     "data": {
      "text/html": [
       "<div>\n",
       "<style scoped>\n",
       "    .dataframe tbody tr th:only-of-type {\n",
       "        vertical-align: middle;\n",
       "    }\n",
       "\n",
       "    .dataframe tbody tr th {\n",
       "        vertical-align: top;\n",
       "    }\n",
       "\n",
       "    .dataframe thead th {\n",
       "        text-align: right;\n",
       "    }\n",
       "</style>\n",
       "<table border=\"1\" class=\"dataframe\">\n",
       "  <thead>\n",
       "    <tr style=\"text-align: right;\">\n",
       "      <th></th>\n",
       "      <th>登陆次数</th>\n",
       "      <th>注册时间(距1970-1-1的秒数)</th>\n",
       "      <th>本次购买时间(距1970-1-1的秒数)</th>\n",
       "      <th>经验值</th>\n",
       "      <th>订单数</th>\n",
       "      <th>客户类别</th>\n",
       "    </tr>\n",
       "    <tr>\n",
       "      <th>客户ID</th>\n",
       "      <th></th>\n",
       "      <th></th>\n",
       "      <th></th>\n",
       "      <th></th>\n",
       "      <th></th>\n",
       "      <th></th>\n",
       "    </tr>\n",
       "  </thead>\n",
       "  <tbody>\n",
       "    <tr>\n",
       "      <th>5245</th>\n",
       "      <td>55</td>\n",
       "      <td>1430413266</td>\n",
       "      <td>1495339734</td>\n",
       "      <td>206</td>\n",
       "      <td>1</td>\n",
       "      <td>1</td>\n",
       "    </tr>\n",
       "    <tr>\n",
       "      <th>5254</th>\n",
       "      <td>69</td>\n",
       "      <td>1430413266</td>\n",
       "      <td>1499041945</td>\n",
       "      <td>428</td>\n",
       "      <td>13</td>\n",
       "      <td>1</td>\n",
       "    </tr>\n",
       "    <tr>\n",
       "      <th>5286</th>\n",
       "      <td>57</td>\n",
       "      <td>1430413266</td>\n",
       "      <td>1509936376</td>\n",
       "      <td>280</td>\n",
       "      <td>1</td>\n",
       "      <td>1</td>\n",
       "    </tr>\n",
       "    <tr>\n",
       "      <th>5292</th>\n",
       "      <td>184</td>\n",
       "      <td>1430413266</td>\n",
       "      <td>1510135868</td>\n",
       "      <td>643</td>\n",
       "      <td>5</td>\n",
       "      <td>1</td>\n",
       "    </tr>\n",
       "    <tr>\n",
       "      <th>5474</th>\n",
       "      <td>71</td>\n",
       "      <td>1430413266</td>\n",
       "      <td>1481185064</td>\n",
       "      <td>61</td>\n",
       "      <td>2</td>\n",
       "      <td>1</td>\n",
       "    </tr>\n",
       "  </tbody>\n",
       "</table>\n",
       "</div>"
      ],
      "text/plain": [
       "      登陆次数  注册时间(距1970-1-1的秒数)  本次购买时间(距1970-1-1的秒数)  经验值  订单数  客户类别\n",
       "客户ID                                                                \n",
       "5245    55          1430413266            1495339734  206    1     1\n",
       "5254    69          1430413266            1499041945  428   13     1\n",
       "5286    57          1430413266            1509936376  280    1     1\n",
       "5292   184          1430413266            1510135868  643    5     1\n",
       "5474    71          1430413266            1481185064   61    2     1"
      ]
     },
     "execution_count": 287,
     "metadata": {},
     "output_type": "execute_result"
    }
   ],
   "source": [
    "guke2.head()"
   ]
  },
  {
   "cell_type": "markdown",
   "metadata": {},
   "source": [
    "#### 指标：正常客户和无价值客户比例\n"
   ]
  },
  {
   "cell_type": "code",
   "execution_count": 288,
   "metadata": {},
   "outputs": [
    {
     "data": {
      "text/plain": [
       "客户类别\n",
       "无价值客户    1669\n",
       "正常客户     1331\n",
       "dtype: int64"
      ]
     },
     "execution_count": 288,
     "metadata": {},
     "output_type": "execute_result"
    }
   ],
   "source": [
    "_ = guke2.groupby('客户类别').size().rename({0: '无价值客户', 1: '正常客户'})\n",
    "_"
   ]
  },
  {
   "cell_type": "markdown",
   "metadata": {},
   "source": [
    "#### 可视化"
   ]
  },
  {
   "cell_type": "code",
   "execution_count": 289,
   "metadata": {},
   "outputs": [
    {
     "data": {
      "text/plain": [
       "<matplotlib.axes._subplots.AxesSubplot at 0x1efb818d470>"
      ]
     },
     "execution_count": 289,
     "metadata": {},
     "output_type": "execute_result"
    },
    {
     "data": {
      "image/png": "[encoded data removed]",
      "text/plain": [
       "<Figure size 576x576 with 1 Axes>"
      ]
     },
     "metadata": {},
     "output_type": "display_data"
    }
   ],
   "source": [
    "_.plot.pie(figsize=(8, 8), labels=_.index, explode=(0, 0.03), autopct='%1.1f%%', startangle=90)"
   ]
  },
  {
   "cell_type": "markdown",
   "metadata": {},
   "source": [
    "结论：无价值客户的数量略大于正常客户"
   ]
  },
  {
   "cell_type": "markdown",
   "metadata": {},
   "source": [
    "### 比较各列数据在不同客户类别下的差异"
   ]
  },
  {
   "cell_type": "code",
   "execution_count": 290,
   "metadata": {},
   "outputs": [
    {
     "data": {
      "text/html": [
       "<div>\n",
       "<style scoped>\n",
       "    .dataframe tbody tr th:only-of-type {\n",
       "        vertical-align: middle;\n",
       "    }\n",
       "\n",
       "    .dataframe tbody tr th {\n",
       "        vertical-align: top;\n",
       "    }\n",
       "\n",
       "    .dataframe thead th {\n",
       "        text-align: right;\n",
       "    }\n",
       "</style>\n",
       "<table border=\"1\" class=\"dataframe\">\n",
       "  <thead>\n",
       "    <tr style=\"text-align: right;\">\n",
       "      <th></th>\n",
       "      <th>登陆次数</th>\n",
       "      <th>注册时间(距1970-1-1的秒数)</th>\n",
       "      <th>本次购买时间(距1970-1-1的秒数)</th>\n",
       "      <th>经验值</th>\n",
       "      <th>订单数</th>\n",
       "    </tr>\n",
       "    <tr>\n",
       "      <th>客户类别</th>\n",
       "      <th></th>\n",
       "      <th></th>\n",
       "      <th></th>\n",
       "      <th></th>\n",
       "      <th></th>\n",
       "    </tr>\n",
       "  </thead>\n",
       "  <tbody>\n",
       "    <tr>\n",
       "      <th>无价值客户</th>\n",
       "      <td>77.547633</td>\n",
       "      <td>1.479904e+09</td>\n",
       "      <td>1.491441e+09</td>\n",
       "      <td>259.021570</td>\n",
       "      <td>2.980827</td>\n",
       "    </tr>\n",
       "    <tr>\n",
       "      <th>正常客户</th>\n",
       "      <td>257.391435</td>\n",
       "      <td>1.466927e+09</td>\n",
       "      <td>1.502303e+09</td>\n",
       "      <td>1190.660406</td>\n",
       "      <td>15.408715</td>\n",
       "    </tr>\n",
       "  </tbody>\n",
       "</table>\n",
       "</div>"
      ],
      "text/plain": [
       "             登陆次数  注册时间(距1970-1-1的秒数)  本次购买时间(距1970-1-1的秒数)          经验值  \\\n",
       "客户类别                                                                       \n",
       "无价值客户   77.547633        1.479904e+09          1.491441e+09   259.021570   \n",
       "正常客户   257.391435        1.466927e+09          1.502303e+09  1190.660406   \n",
       "\n",
       "             订单数  \n",
       "客户类别              \n",
       "无价值客户   2.980827  \n",
       "正常客户   15.408715  "
      ]
     },
     "execution_count": 290,
     "metadata": {},
     "output_type": "execute_result"
    }
   ],
   "source": [
    "guke_mean = guke2.groupby('客户类别').mean().rename(index={0: '无价值客户', 1: '正常客户'})\n",
    "guke_mean"
   ]
  },
  {
   "cell_type": "markdown",
   "metadata": {},
   "source": [
    "#### 年平均登陆次数差异\n"
   ]
  },
  {
   "cell_type": "code",
   "execution_count": 291,
   "metadata": {},
   "outputs": [
    {
     "data": {
      "text/plain": [
       "客户类别\n",
       "无价值客户     77.547633\n",
       "正常客户     257.391435\n",
       "Name: 登陆次数, dtype: float64"
      ]
     },
     "execution_count": 291,
     "metadata": {},
     "output_type": "execute_result"
    }
   ],
   "source": [
    "guke_mean['登陆次数']"
   ]
  },
  {
   "cell_type": "code",
   "execution_count": 292,
   "metadata": {},
   "outputs": [
    {
     "data": {
      "text/plain": [
       "<matplotlib.axes._subplots.AxesSubplot at 0x1efbe665dd8>"
      ]
     },
     "execution_count": 292,
     "metadata": {},
     "output_type": "execute_result"
    },
    {
     "data": {
      "image/png": "[encoded data removed]",
      "text/plain": [
       "<Figure size 432x288 with 1 Axes>"
      ]
     },
     "metadata": {
      "needs_background": "light"
     },
     "output_type": "display_data"
    }
   ],
   "source": [
    "guke_mean['登陆次数'].plot.bar()"
   ]
  },
  {
   "cell_type": "markdown",
   "metadata": {},
   "source": [
    "结论：正常客户的年平均登陆次数要远大于无价值客户"
   ]
  },
  {
   "cell_type": "markdown",
   "metadata": {},
   "source": [
    "#### 客户会员经验平均值差异"
   ]
  },
  {
   "cell_type": "code",
   "execution_count": 293,
   "metadata": {},
   "outputs": [
    {
     "data": {
      "text/plain": [
       "客户类别\n",
       "无价值客户     259.021570\n",
       "正常客户     1190.660406\n",
       "Name: 经验值, dtype: float64"
      ]
     },
     "execution_count": 293,
     "metadata": {},
     "output_type": "execute_result"
    }
   ],
   "source": [
    "guke_mean['经验值']"
   ]
  },
  {
   "cell_type": "code",
   "execution_count": 294,
   "metadata": {},
   "outputs": [
    {
     "data": {
      "text/plain": [
       "<matplotlib.axes._subplots.AxesSubplot at 0x1efc2adc470>"
      ]
     },
     "execution_count": 294,
     "metadata": {},
     "output_type": "execute_result"
    },
    {
     "data": {
      "image/png": "[encoded data removed]",
      "text/plain": [
       "<Figure size 432x288 with 1 Axes>"
      ]
     },
     "metadata": {
      "needs_background": "light"
     },
     "output_type": "display_data"
    }
   ],
   "source": [
    "guke_mean['经验值'].plot.bar()"
   ]
  },
  {
   "cell_type": "markdown",
   "metadata": {},
   "source": [
    "结论：正常客户经验值要大于无价值客户"
   ]
  },
  {
   "cell_type": "markdown",
   "metadata": {},
   "source": [
    "#### 客户平均订单数差异"
   ]
  },
  {
   "cell_type": "code",
   "execution_count": 295,
   "metadata": {},
   "outputs": [
    {
     "data": {
      "text/plain": [
       "客户类别\n",
       "无价值客户     2.980827\n",
       "正常客户     15.408715\n",
       "Name: 订单数, dtype: float64"
      ]
     },
     "execution_count": 295,
     "metadata": {},
     "output_type": "execute_result"
    }
   ],
   "source": [
    "guke_mean['订单数']"
   ]
  },
  {
   "cell_type": "code",
   "execution_count": 296,
   "metadata": {},
   "outputs": [
    {
     "data": {
      "text/plain": [
       "<matplotlib.axes._subplots.AxesSubplot at 0x1efb7ee2160>"
      ]
     },
     "execution_count": 296,
     "metadata": {},
     "output_type": "execute_result"
    },
    {
     "data": {
      "image/png": "[encoded data removed]",
      "text/plain": [
       "<Figure size 432x288 with 1 Axes>"
      ]
     },
     "metadata": {
      "needs_background": "light"
     },
     "output_type": "display_data"
    }
   ],
   "source": [
    "guke_mean['订单数'].plot.bar()"
   ]
  },
  {
   "cell_type": "markdown",
   "metadata": {},
   "source": [
    "结论：正常客户订单数远大于无价值客户"
   ]
  },
  {
   "cell_type": "markdown",
   "metadata": {},
   "source": [
    "#### 注册时间和购买时间差异\n",
    "\n",
    "增加1列，`间隔天数`,(注册时间到本次购买时间的间隔天数）\n",
    "\n",
    "无价值用户和正常用户的平均间隔天数差异"
   ]
  },
  {
   "cell_type": "code",
   "execution_count": 297,
   "metadata": {},
   "outputs": [
    {
     "data": {
      "text/html": [
       "<div>\n",
       "<style scoped>\n",
       "    .dataframe tbody tr th:only-of-type {\n",
       "        vertical-align: middle;\n",
       "    }\n",
       "\n",
       "    .dataframe tbody tr th {\n",
       "        vertical-align: top;\n",
       "    }\n",
       "\n",
       "    .dataframe thead th {\n",
       "        text-align: right;\n",
       "    }\n",
       "</style>\n",
       "<table border=\"1\" class=\"dataframe\">\n",
       "  <thead>\n",
       "    <tr style=\"text-align: right;\">\n",
       "      <th></th>\n",
       "      <th>登陆次数</th>\n",
       "      <th>注册时间(距1970-1-1的秒数)</th>\n",
       "      <th>本次购买时间(距1970-1-1的秒数)</th>\n",
       "      <th>经验值</th>\n",
       "      <th>订单数</th>\n",
       "      <th>客户类别</th>\n",
       "    </tr>\n",
       "    <tr>\n",
       "      <th>客户ID</th>\n",
       "      <th></th>\n",
       "      <th></th>\n",
       "      <th></th>\n",
       "      <th></th>\n",
       "      <th></th>\n",
       "      <th></th>\n",
       "    </tr>\n",
       "  </thead>\n",
       "  <tbody>\n",
       "    <tr>\n",
       "      <th>5245</th>\n",
       "      <td>55</td>\n",
       "      <td>1430413266</td>\n",
       "      <td>1495339734</td>\n",
       "      <td>206</td>\n",
       "      <td>1</td>\n",
       "      <td>1</td>\n",
       "    </tr>\n",
       "    <tr>\n",
       "      <th>5254</th>\n",
       "      <td>69</td>\n",
       "      <td>1430413266</td>\n",
       "      <td>1499041945</td>\n",
       "      <td>428</td>\n",
       "      <td>13</td>\n",
       "      <td>1</td>\n",
       "    </tr>\n",
       "    <tr>\n",
       "      <th>5286</th>\n",
       "      <td>57</td>\n",
       "      <td>1430413266</td>\n",
       "      <td>1509936376</td>\n",
       "      <td>280</td>\n",
       "      <td>1</td>\n",
       "      <td>1</td>\n",
       "    </tr>\n",
       "    <tr>\n",
       "      <th>5292</th>\n",
       "      <td>184</td>\n",
       "      <td>1430413266</td>\n",
       "      <td>1510135868</td>\n",
       "      <td>643</td>\n",
       "      <td>5</td>\n",
       "      <td>1</td>\n",
       "    </tr>\n",
       "    <tr>\n",
       "      <th>5474</th>\n",
       "      <td>71</td>\n",
       "      <td>1430413266</td>\n",
       "      <td>1481185064</td>\n",
       "      <td>61</td>\n",
       "      <td>2</td>\n",
       "      <td>1</td>\n",
       "    </tr>\n",
       "  </tbody>\n",
       "</table>\n",
       "</div>"
      ],
      "text/plain": [
       "      登陆次数  注册时间(距1970-1-1的秒数)  本次购买时间(距1970-1-1的秒数)  经验值  订单数  客户类别\n",
       "客户ID                                                                \n",
       "5245    55          1430413266            1495339734  206    1     1\n",
       "5254    69          1430413266            1499041945  428   13     1\n",
       "5286    57          1430413266            1509936376  280    1     1\n",
       "5292   184          1430413266            1510135868  643    5     1\n",
       "5474    71          1430413266            1481185064   61    2     1"
      ]
     },
     "execution_count": 297,
     "metadata": {},
     "output_type": "execute_result"
    }
   ],
   "source": [
    "guke2.head()"
   ]
  },
  {
   "cell_type": "code",
   "execution_count": 298,
   "metadata": {},
   "outputs": [
    {
     "data": {
      "text/plain": [
       "86400"
      ]
     },
     "execution_count": 298,
     "metadata": {},
     "output_type": "execute_result"
    }
   ],
   "source": [
    "24 * 60 * 60"
   ]
  },
  {
   "cell_type": "code",
   "execution_count": 299,
   "metadata": {},
   "outputs": [
    {
     "data": {
      "text/html": [
       "<div>\n",
       "<style scoped>\n",
       "    .dataframe tbody tr th:only-of-type {\n",
       "        vertical-align: middle;\n",
       "    }\n",
       "\n",
       "    .dataframe tbody tr th {\n",
       "        vertical-align: top;\n",
       "    }\n",
       "\n",
       "    .dataframe thead th {\n",
       "        text-align: right;\n",
       "    }\n",
       "</style>\n",
       "<table border=\"1\" class=\"dataframe\">\n",
       "  <thead>\n",
       "    <tr style=\"text-align: right;\">\n",
       "      <th></th>\n",
       "      <th>登陆次数</th>\n",
       "      <th>注册时间(距1970-1-1的秒数)</th>\n",
       "      <th>本次购买时间(距1970-1-1的秒数)</th>\n",
       "      <th>经验值</th>\n",
       "      <th>订单数</th>\n",
       "      <th>客户类别</th>\n",
       "      <th>间隔天数</th>\n",
       "    </tr>\n",
       "    <tr>\n",
       "      <th>客户ID</th>\n",
       "      <th></th>\n",
       "      <th></th>\n",
       "      <th></th>\n",
       "      <th></th>\n",
       "      <th></th>\n",
       "      <th></th>\n",
       "      <th></th>\n",
       "    </tr>\n",
       "  </thead>\n",
       "  <tbody>\n",
       "    <tr>\n",
       "      <th>5245</th>\n",
       "      <td>55</td>\n",
       "      <td>1430413266</td>\n",
       "      <td>1495339734</td>\n",
       "      <td>206</td>\n",
       "      <td>1</td>\n",
       "      <td>1</td>\n",
       "      <td>751.463750</td>\n",
       "    </tr>\n",
       "    <tr>\n",
       "      <th>5254</th>\n",
       "      <td>69</td>\n",
       "      <td>1430413266</td>\n",
       "      <td>1499041945</td>\n",
       "      <td>428</td>\n",
       "      <td>13</td>\n",
       "      <td>1</td>\n",
       "      <td>794.313414</td>\n",
       "    </tr>\n",
       "    <tr>\n",
       "      <th>5286</th>\n",
       "      <td>57</td>\n",
       "      <td>1430413266</td>\n",
       "      <td>1509936376</td>\n",
       "      <td>280</td>\n",
       "      <td>1</td>\n",
       "      <td>1</td>\n",
       "      <td>920.406366</td>\n",
       "    </tr>\n",
       "    <tr>\n",
       "      <th>5292</th>\n",
       "      <td>184</td>\n",
       "      <td>1430413266</td>\n",
       "      <td>1510135868</td>\n",
       "      <td>643</td>\n",
       "      <td>5</td>\n",
       "      <td>1</td>\n",
       "      <td>922.715301</td>\n",
       "    </tr>\n",
       "    <tr>\n",
       "      <th>5474</th>\n",
       "      <td>71</td>\n",
       "      <td>1430413266</td>\n",
       "      <td>1481185064</td>\n",
       "      <td>61</td>\n",
       "      <td>2</td>\n",
       "      <td>1</td>\n",
       "      <td>587.636551</td>\n",
       "    </tr>\n",
       "  </tbody>\n",
       "</table>\n",
       "</div>"
      ],
      "text/plain": [
       "      登陆次数  注册时间(距1970-1-1的秒数)  本次购买时间(距1970-1-1的秒数)  经验值  订单数  客户类别  \\\n",
       "客户ID                                                                   \n",
       "5245    55          1430413266            1495339734  206    1     1   \n",
       "5254    69          1430413266            1499041945  428   13     1   \n",
       "5286    57          1430413266            1509936376  280    1     1   \n",
       "5292   184          1430413266            1510135868  643    5     1   \n",
       "5474    71          1430413266            1481185064   61    2     1   \n",
       "\n",
       "            间隔天数  \n",
       "客户ID              \n",
       "5245  751.463750  \n",
       "5254  794.313414  \n",
       "5286  920.406366  \n",
       "5292  922.715301  \n",
       "5474  587.636551  "
      ]
     },
     "execution_count": 299,
     "metadata": {},
     "output_type": "execute_result"
    }
   ],
   "source": [
    "guke2['间隔天数'] = (guke2['本次购买时间(距1970-1-1的秒数)'] - guke2['注册时间(距1970-1-1的秒数)']) / 86400\n",
    "guke2.head()"
   ]
  },
  {
   "cell_type": "code",
   "execution_count": 300,
   "metadata": {},
   "outputs": [
    {
     "data": {
      "text/plain": [
       "count    3000.000000\n",
       "mean      255.942592\n",
       "std       254.960800\n",
       "min         0.000000\n",
       "25%        16.877584\n",
       "50%       199.825880\n",
       "75%       402.055605\n",
       "max       935.574028\n",
       "Name: 间隔天数, dtype: float64"
      ]
     },
     "execution_count": 300,
     "metadata": {},
     "output_type": "execute_result"
    }
   ],
   "source": [
    "guke2['间隔天数'].describe()  # 查看间隔天数列的整体指标"
   ]
  },
  {
   "cell_type": "code",
   "execution_count": 301,
   "metadata": {},
   "outputs": [
    {
     "data": {
      "text/plain": [
       "客户类别\n",
       "无价值用户     38.766852\n",
       "正常用户     372.295220\n",
       "Name: 间隔天数, dtype: float64"
      ]
     },
     "execution_count": 301,
     "metadata": {},
     "output_type": "execute_result"
    }
   ],
   "source": [
    "_ = guke2.groupby('客户类别')['间隔天数'].median().rename(index={0: '无价值用户', 1: '正常用户'})\n",
    "_"
   ]
  },
  {
   "cell_type": "code",
   "execution_count": 302,
   "metadata": {},
   "outputs": [
    {
     "data": {
      "text/plain": [
       "<matplotlib.axes._subplots.AxesSubplot at 0x1efc2a95908>"
      ]
     },
     "execution_count": 302,
     "metadata": {},
     "output_type": "execute_result"
    },
    {
     "data": {
      "image/png": "[encoded data removed]",
      "text/plain": [
       "<Figure size 432x288 with 1 Axes>"
      ]
     },
     "metadata": {
      "needs_background": "light"
     },
     "output_type": "display_data"
    }
   ],
   "source": [
    "_.plot.bar()"
   ]
  },
  {
   "cell_type": "markdown",
   "metadata": {},
   "source": [
    "结论：无价值客户购买和注册时间间隔显著小于正常客户"
   ]
  },
  {
   "cell_type": "markdown",
   "metadata": {},
   "source": [
    "#### 计算无价值客户和正常客户注册当天购物的比例"
   ]
  },
  {
   "cell_type": "code",
   "execution_count": 303,
   "metadata": {},
   "outputs": [
    {
     "data": {
      "text/html": [
       "<div>\n",
       "<style scoped>\n",
       "    .dataframe tbody tr th:only-of-type {\n",
       "        vertical-align: middle;\n",
       "    }\n",
       "\n",
       "    .dataframe tbody tr th {\n",
       "        vertical-align: top;\n",
       "    }\n",
       "\n",
       "    .dataframe thead th {\n",
       "        text-align: right;\n",
       "    }\n",
       "</style>\n",
       "<table border=\"1\" class=\"dataframe\">\n",
       "  <thead>\n",
       "    <tr style=\"text-align: right;\">\n",
       "      <th></th>\n",
       "      <th>登陆次数</th>\n",
       "      <th>注册时间(距1970-1-1的秒数)</th>\n",
       "      <th>本次购买时间(距1970-1-1的秒数)</th>\n",
       "      <th>经验值</th>\n",
       "      <th>订单数</th>\n",
       "      <th>客户类别</th>\n",
       "      <th>间隔天数</th>\n",
       "    </tr>\n",
       "    <tr>\n",
       "      <th>客户ID</th>\n",
       "      <th></th>\n",
       "      <th></th>\n",
       "      <th></th>\n",
       "      <th></th>\n",
       "      <th></th>\n",
       "      <th></th>\n",
       "      <th></th>\n",
       "    </tr>\n",
       "  </thead>\n",
       "  <tbody>\n",
       "    <tr>\n",
       "      <th>5245</th>\n",
       "      <td>55</td>\n",
       "      <td>1430413266</td>\n",
       "      <td>1495339734</td>\n",
       "      <td>206</td>\n",
       "      <td>1</td>\n",
       "      <td>1</td>\n",
       "      <td>751.463750</td>\n",
       "    </tr>\n",
       "    <tr>\n",
       "      <th>5254</th>\n",
       "      <td>69</td>\n",
       "      <td>1430413266</td>\n",
       "      <td>1499041945</td>\n",
       "      <td>428</td>\n",
       "      <td>13</td>\n",
       "      <td>1</td>\n",
       "      <td>794.313414</td>\n",
       "    </tr>\n",
       "    <tr>\n",
       "      <th>5286</th>\n",
       "      <td>57</td>\n",
       "      <td>1430413266</td>\n",
       "      <td>1509936376</td>\n",
       "      <td>280</td>\n",
       "      <td>1</td>\n",
       "      <td>1</td>\n",
       "      <td>920.406366</td>\n",
       "    </tr>\n",
       "    <tr>\n",
       "      <th>5292</th>\n",
       "      <td>184</td>\n",
       "      <td>1430413266</td>\n",
       "      <td>1510135868</td>\n",
       "      <td>643</td>\n",
       "      <td>5</td>\n",
       "      <td>1</td>\n",
       "      <td>922.715301</td>\n",
       "    </tr>\n",
       "    <tr>\n",
       "      <th>5474</th>\n",
       "      <td>71</td>\n",
       "      <td>1430413266</td>\n",
       "      <td>1481185064</td>\n",
       "      <td>61</td>\n",
       "      <td>2</td>\n",
       "      <td>1</td>\n",
       "      <td>587.636551</td>\n",
       "    </tr>\n",
       "  </tbody>\n",
       "</table>\n",
       "</div>"
      ],
      "text/plain": [
       "      登陆次数  注册时间(距1970-1-1的秒数)  本次购买时间(距1970-1-1的秒数)  经验值  订单数  客户类别  \\\n",
       "客户ID                                                                   \n",
       "5245    55          1430413266            1495339734  206    1     1   \n",
       "5254    69          1430413266            1499041945  428   13     1   \n",
       "5286    57          1430413266            1509936376  280    1     1   \n",
       "5292   184          1430413266            1510135868  643    5     1   \n",
       "5474    71          1430413266            1481185064   61    2     1   \n",
       "\n",
       "            间隔天数  \n",
       "客户ID              \n",
       "5245  751.463750  \n",
       "5254  794.313414  \n",
       "5286  920.406366  \n",
       "5292  922.715301  \n",
       "5474  587.636551  "
      ]
     },
     "execution_count": 303,
     "metadata": {},
     "output_type": "execute_result"
    }
   ],
   "source": [
    "guke2.head()"
   ]
  },
  {
   "cell_type": "code",
   "execution_count": 304,
   "metadata": {},
   "outputs": [
    {
     "data": {
      "text/plain": [
       "Int64Index([107809, 107819, 108768, 109259, 109410, 109654, 109658, 110122,\n",
       "            110172, 110223,\n",
       "            ...\n",
       "            158720, 158730, 162931, 163525, 168745, 168748, 168751, 168948,\n",
       "            169269, 169691],\n",
       "           dtype='int64', name='客户ID', length=316)"
      ]
     },
     "execution_count": 304,
     "metadata": {},
     "output_type": "execute_result"
    }
   ],
   "source": [
    "# 注册当天就购物的客户\n",
    "_ = guke2[guke2['间隔天数'] <= 1]  # 注册当天就购物的客户\n",
    "_.index"
   ]
  },
  {
   "cell_type": "markdown",
   "metadata": {},
   "source": [
    "增加新列：是否当天购买"
   ]
  },
  {
   "cell_type": "code",
   "execution_count": 305,
   "metadata": {},
   "outputs": [
    {
     "data": {
      "text/html": [
       "<div>\n",
       "<style scoped>\n",
       "    .dataframe tbody tr th:only-of-type {\n",
       "        vertical-align: middle;\n",
       "    }\n",
       "\n",
       "    .dataframe tbody tr th {\n",
       "        vertical-align: top;\n",
       "    }\n",
       "\n",
       "    .dataframe thead th {\n",
       "        text-align: right;\n",
       "    }\n",
       "</style>\n",
       "<table border=\"1\" class=\"dataframe\">\n",
       "  <thead>\n",
       "    <tr style=\"text-align: right;\">\n",
       "      <th></th>\n",
       "      <th>登陆次数</th>\n",
       "      <th>注册时间(距1970-1-1的秒数)</th>\n",
       "      <th>本次购买时间(距1970-1-1的秒数)</th>\n",
       "      <th>经验值</th>\n",
       "      <th>订单数</th>\n",
       "      <th>客户类别</th>\n",
       "      <th>间隔天数</th>\n",
       "      <th>是否当天购买</th>\n",
       "    </tr>\n",
       "    <tr>\n",
       "      <th>客户ID</th>\n",
       "      <th></th>\n",
       "      <th></th>\n",
       "      <th></th>\n",
       "      <th></th>\n",
       "      <th></th>\n",
       "      <th></th>\n",
       "      <th></th>\n",
       "      <th></th>\n",
       "    </tr>\n",
       "  </thead>\n",
       "  <tbody>\n",
       "    <tr>\n",
       "      <th>5245</th>\n",
       "      <td>55</td>\n",
       "      <td>1430413266</td>\n",
       "      <td>1495339734</td>\n",
       "      <td>206</td>\n",
       "      <td>1</td>\n",
       "      <td>1</td>\n",
       "      <td>751.463750</td>\n",
       "      <td>0</td>\n",
       "    </tr>\n",
       "    <tr>\n",
       "      <th>5254</th>\n",
       "      <td>69</td>\n",
       "      <td>1430413266</td>\n",
       "      <td>1499041945</td>\n",
       "      <td>428</td>\n",
       "      <td>13</td>\n",
       "      <td>1</td>\n",
       "      <td>794.313414</td>\n",
       "      <td>0</td>\n",
       "    </tr>\n",
       "    <tr>\n",
       "      <th>5286</th>\n",
       "      <td>57</td>\n",
       "      <td>1430413266</td>\n",
       "      <td>1509936376</td>\n",
       "      <td>280</td>\n",
       "      <td>1</td>\n",
       "      <td>1</td>\n",
       "      <td>920.406366</td>\n",
       "      <td>0</td>\n",
       "    </tr>\n",
       "    <tr>\n",
       "      <th>5292</th>\n",
       "      <td>184</td>\n",
       "      <td>1430413266</td>\n",
       "      <td>1510135868</td>\n",
       "      <td>643</td>\n",
       "      <td>5</td>\n",
       "      <td>1</td>\n",
       "      <td>922.715301</td>\n",
       "      <td>0</td>\n",
       "    </tr>\n",
       "    <tr>\n",
       "      <th>5474</th>\n",
       "      <td>71</td>\n",
       "      <td>1430413266</td>\n",
       "      <td>1481185064</td>\n",
       "      <td>61</td>\n",
       "      <td>2</td>\n",
       "      <td>1</td>\n",
       "      <td>587.636551</td>\n",
       "      <td>0</td>\n",
       "    </tr>\n",
       "  </tbody>\n",
       "</table>\n",
       "</div>"
      ],
      "text/plain": [
       "      登陆次数  注册时间(距1970-1-1的秒数)  本次购买时间(距1970-1-1的秒数)  经验值  订单数  客户类别  \\\n",
       "客户ID                                                                   \n",
       "5245    55          1430413266            1495339734  206    1     1   \n",
       "5254    69          1430413266            1499041945  428   13     1   \n",
       "5286    57          1430413266            1509936376  280    1     1   \n",
       "5292   184          1430413266            1510135868  643    5     1   \n",
       "5474    71          1430413266            1481185064   61    2     1   \n",
       "\n",
       "            间隔天数  是否当天购买  \n",
       "客户ID                      \n",
       "5245  751.463750       0  \n",
       "5254  794.313414       0  \n",
       "5286  920.406366       0  \n",
       "5292  922.715301       0  \n",
       "5474  587.636551       0  "
      ]
     },
     "execution_count": 305,
     "metadata": {},
     "output_type": "execute_result"
    }
   ],
   "source": [
    "guke2['是否当天购买'] = 0\n",
    "guke2.loc[_.index, '是否当天购买'] = 1\n",
    "guke2.head()"
   ]
  },
  {
   "cell_type": "code",
   "execution_count": 306,
   "metadata": {},
   "outputs": [
    {
     "data": {
      "text/plain": [
       "是否当天购买\n",
       "0    2684\n",
       "1     316\n",
       "dtype: int64"
      ]
     },
     "execution_count": 306,
     "metadata": {},
     "output_type": "execute_result"
    }
   ],
   "source": [
    "guke2.groupby('是否当天购买').size()"
   ]
  },
  {
   "cell_type": "code",
   "execution_count": 307,
   "metadata": {},
   "outputs": [
    {
     "data": {
      "text/plain": [
       "<matplotlib.axes._subplots.AxesSubplot at 0x1efc2a5b908>"
      ]
     },
     "execution_count": 307,
     "metadata": {},
     "output_type": "execute_result"
    },
    {
     "data": {
      "image/png": "[encoded data removed]",
      "text/plain": [
       "<Figure size 432x288 with 1 Axes>"
      ]
     },
     "metadata": {
      "needs_background": "light"
     },
     "output_type": "display_data"
    }
   ],
   "source": [
    "guke2.groupby('是否当天购买').size().plot.bar()"
   ]
  },
  {
   "cell_type": "markdown",
   "metadata": {},
   "source": [
    "正常客户或无价值客户注册以后当天购物的比例"
   ]
  },
  {
   "cell_type": "code",
   "execution_count": 308,
   "metadata": {},
   "outputs": [
    {
     "data": {
      "text/plain": [
       "客户类别\n",
       "无价值客户    0.183343\n",
       "正常客户     0.007513\n",
       "Name: 是否当天购买, dtype: float64"
      ]
     },
     "execution_count": 308,
     "metadata": {},
     "output_type": "execute_result"
    }
   ],
   "source": [
    "guke2.head()\n",
    "\n",
    "_ = guke2.groupby('客户类别')['是否当天购买'].mean().rename(index={0: '无价值客户', 1: '正常客户'})\n",
    "_ "
   ]
  },
  {
   "cell_type": "code",
   "execution_count": 310,
   "metadata": {},
   "outputs": [
    {
     "data": {
      "text/plain": [
       "<matplotlib.axes._subplots.AxesSubplot at 0x1efc3685438>"
      ]
     },
     "execution_count": 310,
     "metadata": {},
     "output_type": "execute_result"
    },
    {
     "data": {
      "image/png": "[encoded data removed]",
      "text/plain": [
       "<Figure size 432x288 with 1 Axes>"
      ]
     },
     "metadata": {
      "needs_background": "light"
     },
     "output_type": "display_data"
    }
   ],
   "source": [
    "(_).plot.bar()"
   ]
  },
  {
   "cell_type": "markdown",
   "metadata": {},
   "source": [
    "结论：\n",
    "\n",
    "* 无价值客户注册当天购物的比例为18.3%\n",
    "* 正常客户注册当天购物的比例为0.75%\n",
    "\n",
    "由这个比例得到无价值客户更多的是因为有优惠所以才注册\n"
   ]
  },
  {
   "cell_type": "markdown",
   "metadata": {},
   "source": [
    "---------------------------------------------------------------------"
   ]
  },
  {
   "cell_type": "markdown",
   "metadata": {},
   "source": [
    "---\n",
    "\n",
    "## 建模预测\n",
    "\n",
    "\n",
    "### 正常和无价值客户区分主要受哪些因素影响？\n",
    "\n",
    "哪些因素（特征）影响了客户类别区分？影响的方向（正面负面）和程度如何？\n",
    "#### 推测\n",
    "* 登陆次数？\n",
    "* 经验值？\n",
    "* 注册时间？\n",
    "* 间隔天数？\n",
    "* 。。。\n",
    "\n",
    "\n",
    "\n"
   ]
  },
  {
   "cell_type": "code",
   "execution_count": 145,
   "metadata": {},
   "outputs": [
    {
     "data": {
      "text/html": [
       "<div>\n",
       "<style scoped>\n",
       "    .dataframe tbody tr th:only-of-type {\n",
       "        vertical-align: middle;\n",
       "    }\n",
       "\n",
       "    .dataframe tbody tr th {\n",
       "        vertical-align: top;\n",
       "    }\n",
       "\n",
       "    .dataframe thead th {\n",
       "        text-align: right;\n",
       "    }\n",
       "</style>\n",
       "<table border=\"1\" class=\"dataframe\">\n",
       "  <thead>\n",
       "    <tr style=\"text-align: right;\">\n",
       "      <th></th>\n",
       "      <th>登陆次数</th>\n",
       "      <th>注册时间(距1970-1-1的秒数)</th>\n",
       "      <th>本次购买时间(距1970-1-1的秒数)</th>\n",
       "      <th>经验值</th>\n",
       "      <th>订单数</th>\n",
       "      <th>客户类别</th>\n",
       "      <th>间隔天数</th>\n",
       "      <th>是否当天购买</th>\n",
       "    </tr>\n",
       "    <tr>\n",
       "      <th>客户ID</th>\n",
       "      <th></th>\n",
       "      <th></th>\n",
       "      <th></th>\n",
       "      <th></th>\n",
       "      <th></th>\n",
       "      <th></th>\n",
       "      <th></th>\n",
       "      <th></th>\n",
       "    </tr>\n",
       "  </thead>\n",
       "  <tbody>\n",
       "    <tr>\n",
       "      <th>5245</th>\n",
       "      <td>55</td>\n",
       "      <td>1430413266</td>\n",
       "      <td>1495339734</td>\n",
       "      <td>206</td>\n",
       "      <td>1</td>\n",
       "      <td>1</td>\n",
       "      <td>751.463750</td>\n",
       "      <td>0</td>\n",
       "    </tr>\n",
       "    <tr>\n",
       "      <th>5254</th>\n",
       "      <td>69</td>\n",
       "      <td>1430413266</td>\n",
       "      <td>1499041945</td>\n",
       "      <td>428</td>\n",
       "      <td>13</td>\n",
       "      <td>1</td>\n",
       "      <td>794.313414</td>\n",
       "      <td>0</td>\n",
       "    </tr>\n",
       "    <tr>\n",
       "      <th>5286</th>\n",
       "      <td>57</td>\n",
       "      <td>1430413266</td>\n",
       "      <td>1509936376</td>\n",
       "      <td>280</td>\n",
       "      <td>1</td>\n",
       "      <td>1</td>\n",
       "      <td>920.406366</td>\n",
       "      <td>0</td>\n",
       "    </tr>\n",
       "    <tr>\n",
       "      <th>5292</th>\n",
       "      <td>184</td>\n",
       "      <td>1430413266</td>\n",
       "      <td>1510135868</td>\n",
       "      <td>643</td>\n",
       "      <td>5</td>\n",
       "      <td>1</td>\n",
       "      <td>922.715301</td>\n",
       "      <td>0</td>\n",
       "    </tr>\n",
       "    <tr>\n",
       "      <th>5474</th>\n",
       "      <td>71</td>\n",
       "      <td>1430413266</td>\n",
       "      <td>1481185064</td>\n",
       "      <td>61</td>\n",
       "      <td>2</td>\n",
       "      <td>1</td>\n",
       "      <td>587.636551</td>\n",
       "      <td>0</td>\n",
       "    </tr>\n",
       "  </tbody>\n",
       "</table>\n",
       "</div>"
      ],
      "text/plain": [
       "      登陆次数  注册时间(距1970-1-1的秒数)  本次购买时间(距1970-1-1的秒数)  经验值  订单数  客户类别  \\\n",
       "客户ID                                                                   \n",
       "5245    55          1430413266            1495339734  206    1     1   \n",
       "5254    69          1430413266            1499041945  428   13     1   \n",
       "5286    57          1430413266            1509936376  280    1     1   \n",
       "5292   184          1430413266            1510135868  643    5     1   \n",
       "5474    71          1430413266            1481185064   61    2     1   \n",
       "\n",
       "            间隔天数  是否当天购买  \n",
       "客户ID                      \n",
       "5245  751.463750       0  \n",
       "5254  794.313414       0  \n",
       "5286  920.406366       0  \n",
       "5292  922.715301       0  \n",
       "5474  587.636551       0  "
      ]
     },
     "execution_count": 145,
     "metadata": {},
     "output_type": "execute_result"
    }
   ],
   "source": [
    "guke2.head()"
   ]
  },
  {
   "cell_type": "code",
   "execution_count": 148,
   "metadata": {},
   "outputs": [
    {
     "data": {
      "text/plain": [
       "array([1, 1, 1, ..., 0, 1, 0], dtype=int64)"
      ]
     },
     "execution_count": 148,
     "metadata": {},
     "output_type": "execute_result"
    }
   ],
   "source": [
    "# 标签\n",
    "y = guke2['客户类别'].values\n",
    "y"
   ]
  },
  {
   "cell_type": "code",
   "execution_count": 149,
   "metadata": {},
   "outputs": [
    {
     "data": {
      "text/plain": [
       "array([[ 55.        , 206.        ,   1.        , 751.46375   ,\n",
       "          0.        ],\n",
       "       [ 69.        , 428.        ,  13.        , 794.31341435,\n",
       "          0.        ],\n",
       "       [ 57.        , 280.        ,   1.        , 920.40636574,\n",
       "          0.        ],\n",
       "       ...,\n",
       "       [ 12.        ,  62.        ,   1.        ,   4.04061343,\n",
       "          0.        ],\n",
       "       [ 14.        ,  68.        ,   2.        ,   1.50359954,\n",
       "          0.        ],\n",
       "       [ 16.        ,  27.        ,   1.        ,   3.20237269,\n",
       "          0.        ]])"
      ]
     },
     "execution_count": 149,
     "metadata": {},
     "output_type": "execute_result"
    }
   ],
   "source": [
    "# 特征，原始特征\n",
    "x = guke2.drop(['注册时间(距1970-1-1的秒数)', '本次购买时间(距1970-1-1的秒数)', '客户类别'], axis=1).values\n",
    "x"
   ]
  },
  {
   "cell_type": "markdown",
   "metadata": {},
   "source": [
    "原始特征数据分布情况"
   ]
  },
  {
   "cell_type": "code",
   "execution_count": 258,
   "metadata": {},
   "outputs": [
    {
     "data": {
      "image/png": "[encoded data removed]",
      "text/plain": [
       "<Figure size 1008x576 with 1 Axes>"
      ]
     },
     "metadata": {
      "needs_background": "light"
     },
     "output_type": "display_data"
    },
    {
     "data": {
      "image/png": "[encoded data removed]",
      "text/plain": [
       "<Figure size 1008x576 with 1 Axes>"
      ]
     },
     "metadata": {
      "needs_background": "light"
     },
     "output_type": "display_data"
    }
   ],
   "source": [
    "# 散点图\n",
    "plt.figure(figsize=(14, 8))\n",
    "plt.scatter(x[:,0], x[:, 1], s=5, alpha=0.2)\n",
    "plt.show()\n",
    "\n",
    "# 直方图\n",
    "plt.figure(figsize=(14, 8))\n",
    "plt.hist(x[:, 0], bins=200, color='r', alpha=0.3)\n",
    "plt.hist(x[:, 1], bins=200, color='g', alpha=0.3)\n",
    "# plt.xlim(0, 2000)\n",
    "plt.show()"
   ]
  },
  {
   "cell_type": "markdown",
   "metadata": {},
   "source": [
    "数据正规化，将特征量纲统一到统一范围"
   ]
  },
  {
   "cell_type": "code",
   "execution_count": 151,
   "metadata": {},
   "outputs": [
    {
     "data": {
      "text/plain": [
       "array([[-0.25149108, -0.2832591 , -0.32408248,  1.943843  , -0.34312494],\n",
       "       [-0.21708681, -0.1484197 ,  0.19481848,  2.11193475, -0.34312494],\n",
       "       [-0.24657618, -0.23831263, -0.32408248,  2.60657538, -0.34312494],\n",
       "       ...,\n",
       "       [-0.35716132, -0.37072249, -0.32408248, -0.98816749, -0.34312494],\n",
       "       [-0.35224642, -0.36707818, -0.28084073, -0.99811975, -0.34312494],\n",
       "       [-0.34733153, -0.39198095, -0.32408248, -0.99145576, -0.34312494]])"
      ]
     },
     "execution_count": 151,
     "metadata": {},
     "output_type": "execute_result"
    }
   ],
   "source": [
    "from sklearn import preprocessing\n",
    "X = preprocessing.scale(x)\n",
    "X"
   ]
  },
  {
   "cell_type": "code",
   "execution_count": 260,
   "metadata": {},
   "outputs": [
    {
     "data": {
      "image/png": "[encoded data removed]",
      "text/plain": [
       "<Figure size 1008x576 with 1 Axes>"
      ]
     },
     "metadata": {
      "needs_background": "light"
     },
     "output_type": "display_data"
    },
    {
     "data": {
      "image/png": "[encoded data removed]",
      "text/plain": [
       "<Figure size 1008x576 with 1 Axes>"
      ]
     },
     "metadata": {
      "needs_background": "light"
     },
     "output_type": "display_data"
    }
   ],
   "source": [
    "# 散点图\n",
    "plt.figure(figsize=(14, 8))\n",
    "plt.scatter(X[:,0], X[:, 1], s=5, alpha=0.2)\n",
    "plt.show()\n",
    "\n",
    "# 直方图\n",
    "plt.figure(figsize=(14, 8))\n",
    "plt.hist(X[:, 0], bins=200, color='r', alpha=0.3)\n",
    "plt.hist(X[:, 1], bins=200, color='g', alpha=0.3)\n",
    "# plt.xlim(-0.5, 1)\n",
    "plt.show()"
   ]
  },
  {
   "cell_type": "markdown",
   "metadata": {},
   "source": [
    "### 机器学习算法建模\n",
    "\n",
    "* 线性回归：连续数据建模\n",
    "* 逻辑回归：离散数据建模"
   ]
  },
  {
   "cell_type": "code",
   "execution_count": 154,
   "metadata": {},
   "outputs": [
    {
     "data": {
      "text/plain": [
       "0.7573333333333333"
      ]
     },
     "execution_count": 154,
     "metadata": {},
     "output_type": "execute_result"
    }
   ],
   "source": [
    "\n",
    "from sklearn.linear_model import LinearRegression  # 线性回归\n",
    "from sklearn.linear_model import LogisticRegression  # 逻辑回归\n",
    "\n",
    "# clf = LinearRegression()\n",
    "clf = LogisticRegression(solver='liblinear')\n",
    "\n",
    "# 训练模型\n",
    "clf.fit(X, y)\n",
    "\n",
    "# 查看模型拟合程度\n",
    "clf.score(X, y)"
   ]
  },
  {
   "cell_type": "code",
   "execution_count": 155,
   "metadata": {},
   "outputs": [
    {
     "data": {
      "text/plain": [
       "array([-0.25807352])"
      ]
     },
     "execution_count": 155,
     "metadata": {},
     "output_type": "execute_result"
    }
   ],
   "source": [
    "# 模型误差\n",
    "clf.intercept_  "
   ]
  },
  {
   "cell_type": "code",
   "execution_count": 156,
   "metadata": {},
   "outputs": [
    {
     "data": {
      "text/plain": [
       "array([[-0.39631061,  0.32051473,  0.47222769,  1.19829257, -0.61756718]])"
      ]
     },
     "execution_count": 156,
     "metadata": {},
     "output_type": "execute_result"
    }
   ],
   "source": [
    "# 特征影响\n",
    "clf.coef_  \n",
    "\n",
    "# 正负代表特征和结果是正相关还是负相关\n",
    "# 绝对值大小代表相关程度，特征对结果的影响程度"
   ]
  },
  {
   "cell_type": "code",
   "execution_count": 157,
   "metadata": {},
   "outputs": [
    {
     "data": {
      "text/html": [
       "<div>\n",
       "<style scoped>\n",
       "    .dataframe tbody tr th:only-of-type {\n",
       "        vertical-align: middle;\n",
       "    }\n",
       "\n",
       "    .dataframe tbody tr th {\n",
       "        vertical-align: top;\n",
       "    }\n",
       "\n",
       "    .dataframe thead th {\n",
       "        text-align: right;\n",
       "    }\n",
       "</style>\n",
       "<table border=\"1\" class=\"dataframe\">\n",
       "  <thead>\n",
       "    <tr style=\"text-align: right;\">\n",
       "      <th></th>\n",
       "      <th>登陆次数</th>\n",
       "      <th>经验值</th>\n",
       "      <th>订单数</th>\n",
       "      <th>间隔天数</th>\n",
       "      <th>是否当天购买</th>\n",
       "    </tr>\n",
       "    <tr>\n",
       "      <th>客户ID</th>\n",
       "      <th></th>\n",
       "      <th></th>\n",
       "      <th></th>\n",
       "      <th></th>\n",
       "      <th></th>\n",
       "    </tr>\n",
       "  </thead>\n",
       "  <tbody>\n",
       "    <tr>\n",
       "      <th>5245</th>\n",
       "      <td>55</td>\n",
       "      <td>206</td>\n",
       "      <td>1</td>\n",
       "      <td>751.463750</td>\n",
       "      <td>0</td>\n",
       "    </tr>\n",
       "    <tr>\n",
       "      <th>5254</th>\n",
       "      <td>69</td>\n",
       "      <td>428</td>\n",
       "      <td>13</td>\n",
       "      <td>794.313414</td>\n",
       "      <td>0</td>\n",
       "    </tr>\n",
       "    <tr>\n",
       "      <th>5286</th>\n",
       "      <td>57</td>\n",
       "      <td>280</td>\n",
       "      <td>1</td>\n",
       "      <td>920.406366</td>\n",
       "      <td>0</td>\n",
       "    </tr>\n",
       "    <tr>\n",
       "      <th>5292</th>\n",
       "      <td>184</td>\n",
       "      <td>643</td>\n",
       "      <td>5</td>\n",
       "      <td>922.715301</td>\n",
       "      <td>0</td>\n",
       "    </tr>\n",
       "    <tr>\n",
       "      <th>5474</th>\n",
       "      <td>71</td>\n",
       "      <td>61</td>\n",
       "      <td>2</td>\n",
       "      <td>587.636551</td>\n",
       "      <td>0</td>\n",
       "    </tr>\n",
       "  </tbody>\n",
       "</table>\n",
       "</div>"
      ],
      "text/plain": [
       "      登陆次数  经验值  订单数        间隔天数  是否当天购买\n",
       "客户ID                                    \n",
       "5245    55  206    1  751.463750       0\n",
       "5254    69  428   13  794.313414       0\n",
       "5286    57  280    1  920.406366       0\n",
       "5292   184  643    5  922.715301       0\n",
       "5474    71   61    2  587.636551       0"
      ]
     },
     "execution_count": 157,
     "metadata": {},
     "output_type": "execute_result"
    }
   ],
   "source": [
    "guke2.drop(['注册时间(距1970-1-1的秒数)', '本次购买时间(距1970-1-1的秒数)', '客户类别'], axis=1).head()"
   ]
  },
  {
   "cell_type": "markdown",
   "metadata": {},
   "source": [
    "将特征名称和特征系数组合为Series数据"
   ]
  },
  {
   "cell_type": "code",
   "execution_count": 158,
   "metadata": {},
   "outputs": [
    {
     "data": {
      "text/plain": [
       "登陆次数     -0.396311\n",
       "经验值       0.320515\n",
       "订单数       0.472228\n",
       "间隔天数      1.198293\n",
       "是否当天购买   -0.617567\n",
       "dtype: float64"
      ]
     },
     "execution_count": 158,
     "metadata": {},
     "output_type": "execute_result"
    }
   ],
   "source": [
    "impact = pd.Series(clf.coef_[0], index=['登陆次数', '经验值', '订单数', '间隔天数', '是否当天购买'])\n",
    "impact"
   ]
  },
  {
   "cell_type": "markdown",
   "metadata": {},
   "source": [
    "按特征对标签的影响力排名"
   ]
  },
  {
   "cell_type": "code",
   "execution_count": 159,
   "metadata": {},
   "outputs": [
    {
     "data": {
      "text/plain": [
       "间隔天数      1.198293\n",
       "订单数       0.472228\n",
       "经验值       0.320515\n",
       "登陆次数     -0.396311\n",
       "是否当天购买   -0.617567\n",
       "dtype: float64"
      ]
     },
     "execution_count": 159,
     "metadata": {},
     "output_type": "execute_result"
    }
   ],
   "source": [
    "_ = impact.sort_values(ascending=False)\n",
    "_"
   ]
  },
  {
   "cell_type": "code",
   "execution_count": 160,
   "metadata": {},
   "outputs": [
    {
     "data": {
      "text/plain": [
       "<matplotlib.axes._subplots.AxesSubplot at 0x1efbd557fd0>"
      ]
     },
     "execution_count": 160,
     "metadata": {},
     "output_type": "execute_result"
    },
    {
     "data": {
      "image/png": "[encoded data removed]",
      "text/plain": [
       "<Figure size 432x288 with 1 Axes>"
      ]
     },
     "metadata": {
      "needs_background": "light"
     },
     "output_type": "display_data"
    }
   ],
   "source": [
    "_.plot.bar()"
   ]
  },
  {
   "cell_type": "markdown",
   "metadata": {},
   "source": [
    "按影响力绝对值排序（不管正面负面，只看影响大小）"
   ]
  },
  {
   "cell_type": "code",
   "execution_count": 161,
   "metadata": {},
   "outputs": [
    {
     "data": {
      "text/plain": [
       "间隔天数      1.198293\n",
       "是否当天购买    0.617567\n",
       "订单数       0.472228\n",
       "登陆次数      0.396311\n",
       "经验值       0.320515\n",
       "dtype: float64"
      ]
     },
     "execution_count": 161,
     "metadata": {},
     "output_type": "execute_result"
    }
   ],
   "source": [
    "_ = np.abs(_).sort_values(ascending=False)\n",
    "_"
   ]
  },
  {
   "cell_type": "code",
   "execution_count": 162,
   "metadata": {},
   "outputs": [
    {
     "data": {
      "text/plain": [
       "<matplotlib.axes._subplots.AxesSubplot at 0x1efbc029400>"
      ]
     },
     "execution_count": 162,
     "metadata": {},
     "output_type": "execute_result"
    },
    {
     "data": {
      "image/png": "[encoded data removed]",
      "text/plain": [
       "<Figure size 432x288 with 1 Axes>"
      ]
     },
     "metadata": {
      "needs_background": "light"
     },
     "output_type": "display_data"
    }
   ],
   "source": [
    "_.plot.bar()"
   ]
  },
  {
   "cell_type": "markdown",
   "metadata": {},
   "source": [
    "### 模型解读\n",
    "\n",
    "对用户是正常用户还是无价值用户的特征影响情况：\n",
    "\n",
    "* 正面影响特征\n",
    "    * 间隔天数      1.198293\n",
    "    * 订单数       0.472228\n",
    "    * 经验值       0.320515\n",
    "\n",
    "* 负面影响特征\n",
    "    * 是否当天购买   -0.617567\n",
    "    * 登陆次数     -0.396311\n",
    "    \n",
    "    \n",
    "间隔天数越大，订单数越多，经验值越大，（注册当天不购买，登录次数越少）越有可能是正常用户，反之亦然\n",
    "    "
   ]
  },
  {
   "cell_type": "markdown",
   "metadata": {},
   "source": [
    "### 研究总结\n",
    "相对于正常客户，无价值客户：\n",
    "* 登陆次数**更少**\n",
    "* 会员经验**更少**\n",
    "* 购买订单数**更少**\n",
    "* 注册和购买间隔时间**更短**\n",
    "\n",
    "\n",
    "### 相关建议\n",
    "\n",
    "下订单“稳准狠”的无价值客户，不会在正价商品上过多停留，不会花时间去关注除优惠商品以外的其他商品。\n",
    "为了节省优惠营销费用、提高盈利，给出以下建议：\n",
    "\n",
    "* 差异化推广\n",
    "    * 向正常客户推广优质商品\n",
    "    * 向无价值客户推广高性价比商品\n",
    "* 关联推广\n",
    "    * 在优惠商品处增加原价商品广告，引导客户顺便购买\n",
    "* 打包销售\n",
    "    * 将优惠商品与原价商品打包组合销售"
   ]
  },
  {
   "cell_type": "code",
   "execution_count": null,
   "metadata": {},
   "outputs": [],
   "source": []
  }
 ],
 "metadata": {
  "kernelspec": {
   "display_name": "Python 3",
   "language": "python",
   "name": "python3"
  },
  "language_info": {
   "codemirror_mode": {
    "name": "ipython",
    "version": 3
   },
   "file_extension": ".py",
   "mimetype": "text/x-python",
   "name": "python",
   "nbconvert_exporter": "python",
   "pygments_lexer": "ipython3",
   "version": "3.6.6"
  }
 },
 "nbformat": 4,
 "nbformat_minor": 2
}
